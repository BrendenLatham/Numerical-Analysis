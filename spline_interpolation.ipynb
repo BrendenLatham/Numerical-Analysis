{
  "nbformat": 4,
  "nbformat_minor": 0,
  "metadata": {
    "colab": {
      "provenance": []
    },
    "kernelspec": {
      "name": "python3",
      "display_name": "Python 3"
    },
    "language_info": {
      "name": "python"
    }
  },
  "cells": [
    {
      "cell_type": "markdown",
      "source": [
        "# Project 5\n",
        "### Brenden Latham\n",
        "### CPSMA 4413\n",
        "### Dr. Jacob"
      ],
      "metadata": {
        "id": "d5NU2LeCMyIG"
      }
    },
    {
      "cell_type": "markdown",
      "source": [
        "In this report we will be examining interpolation with linear splines. We will first refresh on direct interpolation, then see how this compares to the use of splines"
      ],
      "metadata": {
        "id": "9TtbDjLyNEBX"
      }
    },
    {
      "cell_type": "code",
      "execution_count": 138,
      "metadata": {
        "id": "idm67pj9zpUj"
      },
      "outputs": [],
      "source": [
        "import math\n",
        "import numpy as np\n",
        "import matplotlib.pyplot as plt"
      ]
    },
    {
      "cell_type": "markdown",
      "source": [
        "We will use Guassian-Jordan elimination to get our coefficients. We will be examining the exponential function."
      ],
      "metadata": {
        "id": "2BObwSlwNXyp"
      }
    },
    {
      "cell_type": "code",
      "source": [
        "def Gauss_elim(A, b):\n",
        "  augmented = np.concatenate((A, b), axis=1, dtype=float)\n",
        "  i = 0\n",
        "  j = i-1\n",
        "  #forward\n",
        "  while i < len(b):\n",
        "    for j in range(i+1, len(b)):\n",
        "      factor = augmented[j][i]/augmented[i][i]\n",
        "      augmented[j] = augmented[j] - (factor*augmented[i])\n",
        "      print(augmented,\"\\n\")\n",
        "    i = i+1\n",
        "  #cleaning\n",
        "  for k in range(len(b)-1, -1, -1):\n",
        "    augmented[k] = augmented[k]/augmented[k][k]\n",
        "    print(augmented,\"\\n\")\n",
        "  #backward\n",
        "  for k in range(len(b)-2, -1, -1):\n",
        "    for l in range(k+1, len(b)):\n",
        "      factor = augmented[k][l]\n",
        "      augmented[k] = augmented[k]-(factor*augmented[l])\n",
        "      print(augmented,\"\\n\")\n",
        "\n",
        "  return(augmented[:, -1])"
      ],
      "metadata": {
        "id": "S9pCh5F60he1"
      },
      "execution_count": 139,
      "outputs": []
    },
    {
      "cell_type": "code",
      "source": [
        "mat = np.array([[1,1,1,1,1],[1,2,4,8,16],[1,3,9,27,81],[1,4,16,64,256],[1,5,25,125,625]])\n",
        "sol = np.array([[math.exp(1)],[math.exp(2)],[math.exp(3)],[math.exp(4)],[math.exp(5)]])"
      ],
      "metadata": {
        "id": "JwlgQUzB0mLQ"
      },
      "execution_count": 140,
      "outputs": []
    },
    {
      "cell_type": "code",
      "source": [
        "solution = Gauss_elim(mat,sol)"
      ],
      "metadata": {
        "colab": {
          "base_uri": "https://localhost:8080/"
        },
        "id": "EVbRhDu32FdZ",
        "outputId": "559c2bee-d0bc-4268-9cf7-3547317618d9"
      },
      "execution_count": 141,
      "outputs": [
        {
          "output_type": "stream",
          "name": "stdout",
          "text": [
            "[[  1.           1.           1.           1.           1.\n",
            "    2.71828183]\n",
            " [  0.           1.           3.           7.          15.\n",
            "    4.67077427]\n",
            " [  1.           3.           9.          27.          81.\n",
            "   20.08553692]\n",
            " [  1.           4.          16.          64.         256.\n",
            "   54.59815003]\n",
            " [  1.           5.          25.         125.         625.\n",
            "  148.4131591 ]] \n",
            "\n",
            "[[  1.           1.           1.           1.           1.\n",
            "    2.71828183]\n",
            " [  0.           1.           3.           7.          15.\n",
            "    4.67077427]\n",
            " [  0.           2.           8.          26.          80.\n",
            "   17.36725509]\n",
            " [  1.           4.          16.          64.         256.\n",
            "   54.59815003]\n",
            " [  1.           5.          25.         125.         625.\n",
            "  148.4131591 ]] \n",
            "\n",
            "[[  1.           1.           1.           1.           1.\n",
            "    2.71828183]\n",
            " [  0.           1.           3.           7.          15.\n",
            "    4.67077427]\n",
            " [  0.           2.           8.          26.          80.\n",
            "   17.36725509]\n",
            " [  0.           3.          15.          63.         255.\n",
            "   51.8798682 ]\n",
            " [  1.           5.          25.         125.         625.\n",
            "  148.4131591 ]] \n",
            "\n",
            "[[  1.           1.           1.           1.           1.\n",
            "    2.71828183]\n",
            " [  0.           1.           3.           7.          15.\n",
            "    4.67077427]\n",
            " [  0.           2.           8.          26.          80.\n",
            "   17.36725509]\n",
            " [  0.           3.          15.          63.         255.\n",
            "   51.8798682 ]\n",
            " [  0.           4.          24.         124.         624.\n",
            "  145.69487727]] \n",
            "\n",
            "[[  1.           1.           1.           1.           1.\n",
            "    2.71828183]\n",
            " [  0.           1.           3.           7.          15.\n",
            "    4.67077427]\n",
            " [  0.           0.           2.          12.          50.\n",
            "    8.02570655]\n",
            " [  0.           3.          15.          63.         255.\n",
            "   51.8798682 ]\n",
            " [  0.           4.          24.         124.         624.\n",
            "  145.69487727]] \n",
            "\n",
            "[[  1.           1.           1.           1.           1.\n",
            "    2.71828183]\n",
            " [  0.           1.           3.           7.          15.\n",
            "    4.67077427]\n",
            " [  0.           0.           2.          12.          50.\n",
            "    8.02570655]\n",
            " [  0.           0.           6.          42.         210.\n",
            "   37.86754539]\n",
            " [  0.           4.          24.         124.         624.\n",
            "  145.69487727]] \n",
            "\n",
            "[[  1.           1.           1.           1.           1.\n",
            "    2.71828183]\n",
            " [  0.           1.           3.           7.          15.\n",
            "    4.67077427]\n",
            " [  0.           0.           2.          12.          50.\n",
            "    8.02570655]\n",
            " [  0.           0.           6.          42.         210.\n",
            "   37.86754539]\n",
            " [  0.           0.          12.          96.         564.\n",
            "  127.01178019]] \n",
            "\n",
            "[[  1.           1.           1.           1.           1.\n",
            "    2.71828183]\n",
            " [  0.           1.           3.           7.          15.\n",
            "    4.67077427]\n",
            " [  0.           0.           2.          12.          50.\n",
            "    8.02570655]\n",
            " [  0.           0.           0.           6.          60.\n",
            "   13.79042573]\n",
            " [  0.           0.          12.          96.         564.\n",
            "  127.01178019]] \n",
            "\n",
            "[[  1.           1.           1.           1.           1.\n",
            "    2.71828183]\n",
            " [  0.           1.           3.           7.          15.\n",
            "    4.67077427]\n",
            " [  0.           0.           2.          12.          50.\n",
            "    8.02570655]\n",
            " [  0.           0.           0.           6.          60.\n",
            "   13.79042573]\n",
            " [  0.           0.           0.          24.         264.\n",
            "   78.85754087]] \n",
            "\n",
            "[[ 1.          1.          1.          1.          1.          2.71828183]\n",
            " [ 0.          1.          3.          7.         15.          4.67077427]\n",
            " [ 0.          0.          2.         12.         50.          8.02570655]\n",
            " [ 0.          0.          0.          6.         60.         13.79042573]\n",
            " [ 0.          0.          0.          0.         24.         23.69583794]] \n",
            "\n",
            "[[ 1.          1.          1.          1.          1.          2.71828183]\n",
            " [ 0.          1.          3.          7.         15.          4.67077427]\n",
            " [ 0.          0.          2.         12.         50.          8.02570655]\n",
            " [ 0.          0.          0.          6.         60.         13.79042573]\n",
            " [ 0.          0.          0.          0.          1.          0.98732658]] \n",
            "\n",
            "[[ 1.          1.          1.          1.          1.          2.71828183]\n",
            " [ 0.          1.          3.          7.         15.          4.67077427]\n",
            " [ 0.          0.          2.         12.         50.          8.02570655]\n",
            " [ 0.          0.          0.          1.         10.          2.29840429]\n",
            " [ 0.          0.          0.          0.          1.          0.98732658]] \n",
            "\n",
            "[[ 1.          1.          1.          1.          1.          2.71828183]\n",
            " [ 0.          1.          3.          7.         15.          4.67077427]\n",
            " [ 0.          0.          1.          6.         25.          4.01285328]\n",
            " [ 0.          0.          0.          1.         10.          2.29840429]\n",
            " [ 0.          0.          0.          0.          1.          0.98732658]] \n",
            "\n",
            "[[ 1.          1.          1.          1.          1.          2.71828183]\n",
            " [ 0.          1.          3.          7.         15.          4.67077427]\n",
            " [ 0.          0.          1.          6.         25.          4.01285328]\n",
            " [ 0.          0.          0.          1.         10.          2.29840429]\n",
            " [ 0.          0.          0.          0.          1.          0.98732658]] \n",
            "\n",
            "[[ 1.          1.          1.          1.          1.          2.71828183]\n",
            " [ 0.          1.          3.          7.         15.          4.67077427]\n",
            " [ 0.          0.          1.          6.         25.          4.01285328]\n",
            " [ 0.          0.          0.          1.         10.          2.29840429]\n",
            " [ 0.          0.          0.          0.          1.          0.98732658]] \n",
            "\n",
            "[[ 1.          1.          1.          1.          1.          2.71828183]\n",
            " [ 0.          1.          3.          7.         15.          4.67077427]\n",
            " [ 0.          0.          1.          6.         25.          4.01285328]\n",
            " [ 0.          0.          0.          1.          0.         -7.57486152]\n",
            " [ 0.          0.          0.          0.          1.          0.98732658]] \n",
            "\n",
            "[[ 1.          1.          1.          1.          1.          2.71828183]\n",
            " [ 0.          1.          3.          7.         15.          4.67077427]\n",
            " [ 0.          0.          1.          0.         25.         49.4620224 ]\n",
            " [ 0.          0.          0.          1.          0.         -7.57486152]\n",
            " [ 0.          0.          0.          0.          1.          0.98732658]] \n",
            "\n",
            "[[ 1.          1.          1.          1.          1.          2.71828183]\n",
            " [ 0.          1.          3.          7.         15.          4.67077427]\n",
            " [ 0.          0.          1.          0.          0.         24.77885788]\n",
            " [ 0.          0.          0.          1.          0.         -7.57486152]\n",
            " [ 0.          0.          0.          0.          1.          0.98732658]] \n",
            "\n",
            "[[  1.           1.           1.           1.           1.\n",
            "    2.71828183]\n",
            " [  0.           1.           0.           7.          15.\n",
            "  -69.66579936]\n",
            " [  0.           0.           1.           0.           0.\n",
            "   24.77885788]\n",
            " [  0.           0.           0.           1.           0.\n",
            "   -7.57486152]\n",
            " [  0.           0.           0.           0.           1.\n",
            "    0.98732658]] \n",
            "\n",
            "[[  1.           1.           1.           1.           1.\n",
            "    2.71828183]\n",
            " [  0.           1.           0.           0.          15.\n",
            "  -16.64176872]\n",
            " [  0.           0.           1.           0.           0.\n",
            "   24.77885788]\n",
            " [  0.           0.           0.           1.           0.\n",
            "   -7.57486152]\n",
            " [  0.           0.           0.           0.           1.\n",
            "    0.98732658]] \n",
            "\n",
            "[[  1.           1.           1.           1.           1.\n",
            "    2.71828183]\n",
            " [  0.           1.           0.           0.           0.\n",
            "  -31.45166743]\n",
            " [  0.           0.           1.           0.           0.\n",
            "   24.77885788]\n",
            " [  0.           0.           0.           1.           0.\n",
            "   -7.57486152]\n",
            " [  0.           0.           0.           0.           1.\n",
            "    0.98732658]] \n",
            "\n",
            "[[  1.           0.           1.           1.           1.\n",
            "   34.16994926]\n",
            " [  0.           1.           0.           0.           0.\n",
            "  -31.45166743]\n",
            " [  0.           0.           1.           0.           0.\n",
            "   24.77885788]\n",
            " [  0.           0.           0.           1.           0.\n",
            "   -7.57486152]\n",
            " [  0.           0.           0.           0.           1.\n",
            "    0.98732658]] \n",
            "\n",
            "[[  1.           0.           0.           1.           1.\n",
            "    9.39109138]\n",
            " [  0.           1.           0.           0.           0.\n",
            "  -31.45166743]\n",
            " [  0.           0.           1.           0.           0.\n",
            "   24.77885788]\n",
            " [  0.           0.           0.           1.           0.\n",
            "   -7.57486152]\n",
            " [  0.           0.           0.           0.           1.\n",
            "    0.98732658]] \n",
            "\n",
            "[[  1.           0.           0.           0.           1.\n",
            "   16.9659529 ]\n",
            " [  0.           1.           0.           0.           0.\n",
            "  -31.45166743]\n",
            " [  0.           0.           1.           0.           0.\n",
            "   24.77885788]\n",
            " [  0.           0.           0.           1.           0.\n",
            "   -7.57486152]\n",
            " [  0.           0.           0.           0.           1.\n",
            "    0.98732658]] \n",
            "\n",
            "[[  1.           0.           0.           0.           0.\n",
            "   15.97862632]\n",
            " [  0.           1.           0.           0.           0.\n",
            "  -31.45166743]\n",
            " [  0.           0.           1.           0.           0.\n",
            "   24.77885788]\n",
            " [  0.           0.           0.           1.           0.\n",
            "   -7.57486152]\n",
            " [  0.           0.           0.           0.           1.\n",
            "    0.98732658]] \n",
            "\n"
          ]
        }
      ]
    },
    {
      "cell_type": "code",
      "source": [
        "print(solution)"
      ],
      "metadata": {
        "colab": {
          "base_uri": "https://localhost:8080/"
        },
        "id": "Pfw00jBM7MoW",
        "outputId": "bec4bef8-c77a-46a4-9a1d-1f79c5c5f509"
      },
      "execution_count": 142,
      "outputs": [
        {
          "output_type": "stream",
          "name": "stdout",
          "text": [
            "[ 15.97862632 -31.45166743  24.77885788  -7.57486152   0.98732658]\n"
          ]
        }
      ]
    },
    {
      "cell_type": "markdown",
      "source": [
        "Now that we have our points, we can define our functions."
      ],
      "metadata": {
        "id": "R2b8szA_NkOm"
      }
    },
    {
      "cell_type": "code",
      "source": [
        "def f(x):\n",
        "  res = solution[0] + (solution[1]*x) + (solution[2]*(x**2)) + (solution[3]*(x**3)) + (solution[4]*(x**4))\n",
        "  return(res)\n",
        "def g(x):\n",
        "  return(np.exp(x))"
      ],
      "metadata": {
        "id": "KdM2qcl44dLA"
      },
      "execution_count": 178,
      "outputs": []
    },
    {
      "cell_type": "code",
      "source": [
        "x = np.linspace(0, 6, 1000)\n",
        "y = f(x)\n",
        "g_y = g(x)\n",
        "\n",
        "plt.plot(x, y, label='Direct Interpolation',color='blue')\n",
        "plt.plot(x, g_y, label='e^x',color='red')\n",
        "plt.legend()\n",
        "plt.xlabel('x')\n",
        "plt.ylabel('y')\n",
        "plt.show()"
      ],
      "metadata": {
        "colab": {
          "base_uri": "https://localhost:8080/",
          "height": 449
        },
        "id": "h8sCPodP5RdN",
        "outputId": "fe302e50-3f11-4d1f-8ef3-a7622bd7f08b"
      },
      "execution_count": 179,
      "outputs": [
        {
          "output_type": "display_data",
          "data": {
            "text/plain": [
              "<Figure size 640x480 with 1 Axes>"
            ],
            "image/png": "[encoded data removed]"
          },
          "metadata": {}
        }
      ]
    },
    {
      "cell_type": "markdown",
      "source": [
        "It seems that direct substitutions is relatively accurate. Let's see how this compares to spline interpolation with five points."
      ],
      "metadata": {
        "id": "NN_AFj_ENprx"
      }
    },
    {
      "cell_type": "code",
      "source": [
        "def linear_splines(points):\n",
        "  y_list = []\n",
        "  for i in range(len(points)-1):\n",
        "    x = np.linspace(points[i],points[i+1],100)\n",
        "    for j in x:\n",
        "      y = np.exp(points[i]) + (np.exp(points[i+1])-np.exp(points[i]))/(points[i+1]-points[i])*(j-points[i])\n",
        "      y_list.append(y)\n",
        "  return(y_list)"
      ],
      "metadata": {
        "id": "ukdEKFmGDMKq"
      },
      "execution_count": 183,
      "outputs": []
    },
    {
      "cell_type": "code",
      "source": [
        "x = np.linspace(1, 5, 400)\n",
        "points = [1,2,3,4,5]\n",
        "linear_y = linear_splines(points)\n",
        "g_y = g(x)\n",
        "\n",
        "plt.plot(x, linear_y, label='Spline Interpolation',color='blue')\n",
        "plt.plot(x, g_y, label='e^x',color='red')\n",
        "plt.legend()\n",
        "plt.xlabel('x')\n",
        "plt.ylabel('y')\n",
        "plt.show()"
      ],
      "metadata": {
        "colab": {
          "base_uri": "https://localhost:8080/",
          "height": 449
        },
        "id": "PExptSnV4OVo",
        "outputId": "4d16819d-0f45-45ae-cf68-8e62eb1faed2"
      },
      "execution_count": 184,
      "outputs": [
        {
          "output_type": "display_data",
          "data": {
            "text/plain": [
              "<Figure size 640x480 with 1 Axes>"
            ],
            "image/png": "[encoded data removed]"
          },
          "metadata": {}
        }
      ]
    },
    {
      "cell_type": "markdown",
      "source": [
        "This form of interpolation is also very accurate. It is worth noting that the midpoint between two points is where the error will be at a maximum. Let's now take a look at the same method using twenty points."
      ],
      "metadata": {
        "id": "m2UNeqgbNztQ"
      }
    },
    {
      "cell_type": "code",
      "source": [
        "x = np.linspace(1, 5, 2000)\n",
        "points = np.linspace(1, 5, 21)\n",
        "linear_y = linear_splines(points)\n",
        "g_y = g(x)\n",
        "\n",
        "plt.plot(x, linear_y, label='Spline Interpolation',color='blue')\n",
        "plt.plot(x, g_y, label='e^x',color='red')\n",
        "plt.legend()\n",
        "plt.xlabel('x')\n",
        "plt.ylabel('y')\n",
        "plt.ylim([1,200])\n",
        "plt.show()"
      ],
      "metadata": {
        "colab": {
          "base_uri": "https://localhost:8080/",
          "height": 455
        },
        "id": "y9JFJgprH4V3",
        "outputId": "40d857f5-8eef-49aa-a8cc-1b6ac8def366"
      },
      "execution_count": 185,
      "outputs": [
        {
          "output_type": "display_data",
          "data": {
            "text/plain": [
              "<Figure size 640x480 with 1 Axes>"
            ],
            "image/png": "[encoded data removed]"
          },
          "metadata": {}
        }
      ]
    },
    {
      "cell_type": "markdown",
      "source": [
        "Wow. Twenty points makes a great interpolation with almost no error around where our points lay. Although our interpolation is accurate within our chosen points, a point outside with window would be wildly innacurate. We like interpolation, not extrapolation. Even a point that was within our window, but more of an outlier, would have large error in areas close to it. This is a very accurate form of interpolation given the right circumstances."
      ],
      "metadata": {
        "id": "FAecpeytOLTz"
      }
    }
  ]
}