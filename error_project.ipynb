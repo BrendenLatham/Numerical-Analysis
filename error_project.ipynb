{
  "nbformat": 4,
  "nbformat_minor": 0,
  "metadata": {
    "colab": {
      "provenance": []
    },
    "kernelspec": {
      "name": "python3",
      "display_name": "Python 3"
    },
    "language_info": {
      "name": "python"
    }
  },
  "cells": [
    {
      "cell_type": "markdown",
      "source": [
        "# Project 1\n",
        "#### Ashish Yonzon, Brenden Latham\n",
        "#### CPSMA-4413 Numerical Analysis\n",
        "#### Dr. Jacob"
      ],
      "metadata": {
        "id": "jXhgsaPWnZ4H"
      }
    },
    {
      "cell_type": "code",
      "source": [
        "import pandas as pd\n",
        "import math"
      ],
      "metadata": {
        "id": "5ecHrWEq-tJC"
      },
      "execution_count": null,
      "outputs": []
    },
    {
      "cell_type": "markdown",
      "source": [
        "First we will create a couple functions. The first will be for finding true error and relative true error, while the second will be for approximate error and relative approximate error."
      ],
      "metadata": {
        "id": "idA4VYv60xrL"
      }
    },
    {
      "cell_type": "code",
      "execution_count": 68,
      "metadata": {
        "id": "HyjPBrMm9K5-"
      },
      "outputs": [],
      "source": [
        "def errors(true_value,predicted_value):\n",
        "  true_error = true_value - predicted_value\n",
        "  relative_error = true_error / true_value\n",
        "  return(true_error,relative_error)\n",
        "  # print(f\"True error:{true_error} & Relative Error {relative_error}\")"
      ]
    },
    {
      "cell_type": "code",
      "source": [
        "def apx_errors(current_value,previous_value):\n",
        "  apx_error = current_value - previous_value\n",
        "  apx_relative_error = apx_error / current_value\n",
        "  return(apx_error,apx_relative_error)\n",
        "  # print(f\"Approximate error:{apx_true_error} & Approximate Relative Error:{apx_relative_error}\")"
      ],
      "metadata": {
        "id": "sj8QOTMB_Mrq"
      },
      "execution_count": 69,
      "outputs": []
    },
    {
      "cell_type": "markdown",
      "source": [
        "The output of the functions are as follows."
      ],
      "metadata": {
        "id": "IxAQSRman_Mv"
      }
    },
    {
      "cell_type": "code",
      "source": [
        "errors(20,21)"
      ],
      "metadata": {
        "colab": {
          "base_uri": "https://localhost:8080/"
        },
        "id": "NhBz1wOV-k4K",
        "outputId": "3f5b2bac-007a-4442-fe9d-cb616c029993"
      },
      "execution_count": 73,
      "outputs": [
        {
          "output_type": "execute_result",
          "data": {
            "text/plain": [
              "(-1, -0.05)"
            ]
          },
          "metadata": {},
          "execution_count": 73
        }
      ]
    },
    {
      "cell_type": "markdown",
      "source": [
        "where 20 is the true value and 21 is the estimated value"
      ],
      "metadata": {
        "id": "2mIU7vSfO7vb"
      }
    },
    {
      "cell_type": "code",
      "source": [
        "apx_errors(21,20)"
      ],
      "metadata": {
        "colab": {
          "base_uri": "https://localhost:8080/"
        },
        "id": "yE9T4YGZ-qA7",
        "outputId": "86af84c1-f965-46fa-efdb-92b7c1f2a1c5"
      },
      "execution_count": 74,
      "outputs": [
        {
          "output_type": "execute_result",
          "data": {
            "text/plain": [
              "(1, 0.047619047619047616)"
            ]
          },
          "metadata": {},
          "execution_count": 74
        }
      ]
    },
    {
      "cell_type": "markdown",
      "source": [
        "Where 21 is the current approximation and 20 is the previous approximation"
      ],
      "metadata": {
        "id": "XJC38-o8PETh"
      }
    },
    {
      "cell_type": "markdown",
      "source": [
        "We will now explore the Taylor Series for e^x centered at 1"
      ],
      "metadata": {
        "id": "baqNdy9g01JS"
      }
    },
    {
      "cell_type": "markdown",
      "source": [
        "First we define a function for the Taylor series."
      ],
      "metadata": {
        "id": "c43v0jW1dNMi"
      }
    },
    {
      "cell_type": "code",
      "source": [
        "def taylor_exp(x,a,degree):\n",
        "    return sum([(x-a)**n/math.factorial(n) for n in range(degree)])*math.exp(1)\n"
      ],
      "metadata": {
        "id": "3DS8MnJ2KW-u"
      },
      "execution_count": null,
      "outputs": []
    },
    {
      "cell_type": "markdown",
      "source": [
        "Since we are centering at 1, we will set a=1. Also because e^x is equal to it's derivative, we will just need to multiply the output by e^1."
      ],
      "metadata": {
        "id": "QQuVfk73qcJf"
      }
    },
    {
      "cell_type": "markdown",
      "source": [
        "Lets see what this gives us when we have x=1.1 for e^x"
      ],
      "metadata": {
        "id": "KVJReoKrrcNK"
      }
    },
    {
      "cell_type": "code",
      "source": [
        "\n",
        "# Create a list of degrees\n",
        "degrees = range(21)\n",
        "f = math.exp\n",
        "x = 1.1\n",
        "a = 1\n",
        "\n",
        "\n",
        "# Create a dictionary of values\n",
        "data = {'Degree': degrees,\n",
        "        'Actual Value': math.exp(x),\n",
        "        'Approximation': [taylor_exp(x,a, n) for n in degrees],\n",
        "\n",
        "        'True Error': [f(x) - taylor_exp(x,a, n) for n in degrees],\n",
        "        'Relative Error': [(f(x) - taylor_exp(x,a, n))/f(x) for n in degrees]}\n",
        "pd.options.display.float_format = '{:.15f}'.format\n",
        "# Create a DataFrame\n",
        "df = pd.DataFrame(data)\n",
        "\n",
        "# Set the Degree column as the index\n",
        "df.set_index('Degree', inplace=True)\n",
        "\n",
        "# Print the DataFrame\n",
        "df\n"
      ],
      "metadata": {
        "colab": {
          "base_uri": "https://localhost:8080/",
          "height": 739
        },
        "id": "O27olqizik5T",
        "outputId": "212dc82a-16cf-41a0-8d03-254624940b68"
      },
      "execution_count": null,
      "outputs": [
        {
          "output_type": "execute_result",
          "data": {
            "text/plain": [
              "            Actual Value     Approximation        True Error    Relative Error\n",
              "Degree                                                                        \n",
              "0      3.004166023946433 0.000000000000000 3.004166023946433 1.000000000000000\n",
              "1      3.004166023946433 2.718281828459045 0.285884195487388 0.095162581964041\n",
              "2      3.004166023946433 2.990110011304950 0.014056012641483 0.004678840160445\n",
              "3      3.004166023946433 3.003701420447245 0.000464603499188 0.000154653070265\n",
              "4      3.004166023946433 3.004154467418655 0.000011556527778 0.000003846833925\n",
              "5      3.004166023946433 3.004165793592940 0.000000230353493 0.000000076678017\n",
              "6      3.004166023946433 3.004166020116426 0.000000003830007 0.000000001274899\n",
              "7      3.004166023946433 3.004166023891817 0.000000000054616 0.000000000018180\n",
              "8      3.004166023946433 3.004166023945751 0.000000000000682 0.000000000000227\n",
              "9      3.004166023946433 3.004166023946425 0.000000000000008 0.000000000000003\n",
              "10     3.004166023946433 3.004166023946433 0.000000000000001 0.000000000000000\n",
              "11     3.004166023946433 3.004166023946433 0.000000000000001 0.000000000000000\n",
              "12     3.004166023946433 3.004166023946433 0.000000000000001 0.000000000000000\n",
              "13     3.004166023946433 3.004166023946433 0.000000000000001 0.000000000000000\n",
              "14     3.004166023946433 3.004166023946433 0.000000000000001 0.000000000000000\n",
              "15     3.004166023946433 3.004166023946433 0.000000000000001 0.000000000000000\n",
              "16     3.004166023946433 3.004166023946433 0.000000000000001 0.000000000000000\n",
              "17     3.004166023946433 3.004166023946433 0.000000000000001 0.000000000000000\n",
              "18     3.004166023946433 3.004166023946433 0.000000000000001 0.000000000000000\n",
              "19     3.004166023946433 3.004166023946433 0.000000000000001 0.000000000000000\n",
              "20     3.004166023946433 3.004166023946433 0.000000000000001 0.000000000000000"
            ],
            "text/html": [
              "\n",
              "  <div id=\"df-ea36fd64-5fda-4008-9446-0dd494d739ea\">\n",
              "    <div class=\"colab-df-container\">\n",
              "      <div>\n",
              "<style scoped>\n",
              "    .dataframe tbody tr th:only-of-type {\n",
              "        vertical-align: middle;\n",
              "    }\n",
              "\n",
              "    .dataframe tbody tr th {\n",
              "        vertical-align: top;\n",
              "    }\n",
              "\n",
              "    .dataframe thead th {\n",
              "        text-align: right;\n",
              "    }\n",
              "</style>\n",
              "<table border=\"1\" class=\"dataframe\">\n",
              "  <thead>\n",
              "    <tr style=\"text-align: right;\">\n",
              "      <th></th>\n",
              "      <th>Actual Value</th>\n",
              "      <th>Approximation</th>\n",
              "      <th>True Error</th>\n",
              "      <th>Relative Error</th>\n",
              "    </tr>\n",
              "    <tr>\n",
              "      <th>Degree</th>\n",
              "      <th></th>\n",
              "      <th></th>\n",
              "      <th></th>\n",
              "      <th></th>\n",
              "    </tr>\n",
              "  </thead>\n",
              "  <tbody>\n",
              "    <tr>\n",
              "      <th>0</th>\n",
              "      <td>3.004166023946433</td>\n",
              "      <td>0.000000000000000</td>\n",
              "      <td>3.004166023946433</td>\n",
              "      <td>1.000000000000000</td>\n",
              "    </tr>\n",
              "    <tr>\n",
              "      <th>1</th>\n",
              "      <td>3.004166023946433</td>\n",
              "      <td>2.718281828459045</td>\n",
              "      <td>0.285884195487388</td>\n",
              "      <td>0.095162581964041</td>\n",
              "    </tr>\n",
              "    <tr>\n",
              "      <th>2</th>\n",
              "      <td>3.004166023946433</td>\n",
              "      <td>2.990110011304950</td>\n",
              "      <td>0.014056012641483</td>\n",
              "      <td>0.004678840160445</td>\n",
              "    </tr>\n",
              "    <tr>\n",
              "      <th>3</th>\n",
              "      <td>3.004166023946433</td>\n",
              "      <td>3.003701420447245</td>\n",
              "      <td>0.000464603499188</td>\n",
              "      <td>0.000154653070265</td>\n",
              "    </tr>\n",
              "    <tr>\n",
              "      <th>4</th>\n",
              "      <td>3.004166023946433</td>\n",
              "      <td>3.004154467418655</td>\n",
              "      <td>0.000011556527778</td>\n",
              "      <td>0.000003846833925</td>\n",
              "    </tr>\n",
              "    <tr>\n",
              "      <th>5</th>\n",
              "      <td>3.004166023946433</td>\n",
              "      <td>3.004165793592940</td>\n",
              "      <td>0.000000230353493</td>\n",
              "      <td>0.000000076678017</td>\n",
              "    </tr>\n",
              "    <tr>\n",
              "      <th>6</th>\n",
              "      <td>3.004166023946433</td>\n",
              "      <td>3.004166020116426</td>\n",
              "      <td>0.000000003830007</td>\n",
              "      <td>0.000000001274899</td>\n",
              "    </tr>\n",
              "    <tr>\n",
              "      <th>7</th>\n",
              "      <td>3.004166023946433</td>\n",
              "      <td>3.004166023891817</td>\n",
              "      <td>0.000000000054616</td>\n",
              "      <td>0.000000000018180</td>\n",
              "    </tr>\n",
              "    <tr>\n",
              "      <th>8</th>\n",
              "      <td>3.004166023946433</td>\n",
              "      <td>3.004166023945751</td>\n",
              "      <td>0.000000000000682</td>\n",
              "      <td>0.000000000000227</td>\n",
              "    </tr>\n",
              "    <tr>\n",
              "      <th>9</th>\n",
              "      <td>3.004166023946433</td>\n",
              "      <td>3.004166023946425</td>\n",
              "      <td>0.000000000000008</td>\n",
              "      <td>0.000000000000003</td>\n",
              "    </tr>\n",
              "    <tr>\n",
              "      <th>10</th>\n",
              "      <td>3.004166023946433</td>\n",
              "      <td>3.004166023946433</td>\n",
              "      <td>0.000000000000001</td>\n",
              "      <td>0.000000000000000</td>\n",
              "    </tr>\n",
              "    <tr>\n",
              "      <th>11</th>\n",
              "      <td>3.004166023946433</td>\n",
              "      <td>3.004166023946433</td>\n",
              "      <td>0.000000000000001</td>\n",
              "      <td>0.000000000000000</td>\n",
              "    </tr>\n",
              "    <tr>\n",
              "      <th>12</th>\n",
              "      <td>3.004166023946433</td>\n",
              "      <td>3.004166023946433</td>\n",
              "      <td>0.000000000000001</td>\n",
              "      <td>0.000000000000000</td>\n",
              "    </tr>\n",
              "    <tr>\n",
              "      <th>13</th>\n",
              "      <td>3.004166023946433</td>\n",
              "      <td>3.004166023946433</td>\n",
              "      <td>0.000000000000001</td>\n",
              "      <td>0.000000000000000</td>\n",
              "    </tr>\n",
              "    <tr>\n",
              "      <th>14</th>\n",
              "      <td>3.004166023946433</td>\n",
              "      <td>3.004166023946433</td>\n",
              "      <td>0.000000000000001</td>\n",
              "      <td>0.000000000000000</td>\n",
              "    </tr>\n",
              "    <tr>\n",
              "      <th>15</th>\n",
              "      <td>3.004166023946433</td>\n",
              "      <td>3.004166023946433</td>\n",
              "      <td>0.000000000000001</td>\n",
              "      <td>0.000000000000000</td>\n",
              "    </tr>\n",
              "    <tr>\n",
              "      <th>16</th>\n",
              "      <td>3.004166023946433</td>\n",
              "      <td>3.004166023946433</td>\n",
              "      <td>0.000000000000001</td>\n",
              "      <td>0.000000000000000</td>\n",
              "    </tr>\n",
              "    <tr>\n",
              "      <th>17</th>\n",
              "      <td>3.004166023946433</td>\n",
              "      <td>3.004166023946433</td>\n",
              "      <td>0.000000000000001</td>\n",
              "      <td>0.000000000000000</td>\n",
              "    </tr>\n",
              "    <tr>\n",
              "      <th>18</th>\n",
              "      <td>3.004166023946433</td>\n",
              "      <td>3.004166023946433</td>\n",
              "      <td>0.000000000000001</td>\n",
              "      <td>0.000000000000000</td>\n",
              "    </tr>\n",
              "    <tr>\n",
              "      <th>19</th>\n",
              "      <td>3.004166023946433</td>\n",
              "      <td>3.004166023946433</td>\n",
              "      <td>0.000000000000001</td>\n",
              "      <td>0.000000000000000</td>\n",
              "    </tr>\n",
              "    <tr>\n",
              "      <th>20</th>\n",
              "      <td>3.004166023946433</td>\n",
              "      <td>3.004166023946433</td>\n",
              "      <td>0.000000000000001</td>\n",
              "      <td>0.000000000000000</td>\n",
              "    </tr>\n",
              "  </tbody>\n",
              "</table>\n",
              "</div>\n",
              "      <button class=\"colab-df-convert\" onclick=\"convertToInteractive('df-ea36fd64-5fda-4008-9446-0dd494d739ea')\"\n",
              "              title=\"Convert this dataframe to an interactive table.\"\n",
              "              style=\"display:none;\">\n",
              "        \n",
              "  <svg xmlns=\"http://www.w3.org/2000/svg\" height=\"24px\"viewBox=\"0 0 24 24\"\n",
              "       width=\"24px\">\n",
              "    <path d=\"M0 0h24v24H0V0z\" fill=\"none\"/>\n",
              "    <path d=\"M18.56 5.44l.94 2.06.94-2.06 2.06-.94-2.06-.94-.94-2.06-.94 2.06-2.06.94zm-11 1L8.5 8.5l.94-2.06 2.06-.94-2.06-.94L8.5 2.5l-.94 2.06-2.06.94zm10 10l.94 2.06.94-2.06 2.06-.94-2.06-.94-.94-2.06-.94 2.06-2.06.94z\"/><path d=\"M17.41 7.96l-1.37-1.37c-.4-.4-.92-.59-1.43-.59-.52 0-1.04.2-1.43.59L10.3 9.45l-7.72 7.72c-.78.78-.78 2.05 0 2.83L4 21.41c.39.39.9.59 1.41.59.51 0 1.02-.2 1.41-.59l7.78-7.78 2.81-2.81c.8-.78.8-2.07 0-2.86zM5.41 20L4 18.59l7.72-7.72 1.47 1.35L5.41 20z\"/>\n",
              "  </svg>\n",
              "      </button>\n",
              "      \n",
              "  <style>\n",
              "    .colab-df-container {\n",
              "      display:flex;\n",
              "      flex-wrap:wrap;\n",
              "      gap: 12px;\n",
              "    }\n",
              "\n",
              "    .colab-df-convert {\n",
              "      background-color: #E8F0FE;\n",
              "      border: none;\n",
              "      border-radius: 50%;\n",
              "      cursor: pointer;\n",
              "      display: none;\n",
              "      fill: #1967D2;\n",
              "      height: 32px;\n",
              "      padding: 0 0 0 0;\n",
              "      width: 32px;\n",
              "    }\n",
              "\n",
              "    .colab-df-convert:hover {\n",
              "      background-color: #E2EBFA;\n",
              "      box-shadow: 0px 1px 2px rgba(60, 64, 67, 0.3), 0px 1px 3px 1px rgba(60, 64, 67, 0.15);\n",
              "      fill: #174EA6;\n",
              "    }\n",
              "\n",
              "    [theme=dark] .colab-df-convert {\n",
              "      background-color: #3B4455;\n",
              "      fill: #D2E3FC;\n",
              "    }\n",
              "\n",
              "    [theme=dark] .colab-df-convert:hover {\n",
              "      background-color: #434B5C;\n",
              "      box-shadow: 0px 1px 3px 1px rgba(0, 0, 0, 0.15);\n",
              "      filter: drop-shadow(0px 1px 2px rgba(0, 0, 0, 0.3));\n",
              "      fill: #FFFFFF;\n",
              "    }\n",
              "  </style>\n",
              "\n",
              "      <script>\n",
              "        const buttonEl =\n",
              "          document.querySelector('#df-ea36fd64-5fda-4008-9446-0dd494d739ea button.colab-df-convert');\n",
              "        buttonEl.style.display =\n",
              "          google.colab.kernel.accessAllowed ? 'block' : 'none';\n",
              "\n",
              "        async function convertToInteractive(key) {\n",
              "          const element = document.querySelector('#df-ea36fd64-5fda-4008-9446-0dd494d739ea');\n",
              "          const dataTable =\n",
              "            await google.colab.kernel.invokeFunction('convertToInteractive',\n",
              "                                                     [key], {});\n",
              "          if (!dataTable) return;\n",
              "\n",
              "          const docLinkHtml = 'Like what you see? Visit the ' +\n",
              "            '<a target=\"_blank\" href=https://colab.research.google.com/notebooks/data_table.ipynb>data table notebook</a>'\n",
              "            + ' to learn more about interactive tables.';\n",
              "          element.innerHTML = '';\n",
              "          dataTable['output_type'] = 'display_data';\n",
              "          await google.colab.output.renderOutput(dataTable, element);\n",
              "          const docLink = document.createElement('div');\n",
              "          docLink.innerHTML = docLinkHtml;\n",
              "          element.appendChild(docLink);\n",
              "        }\n",
              "      </script>\n",
              "    </div>\n",
              "  </div>\n",
              "  "
            ]
          },
          "metadata": {},
          "execution_count": 34
        }
      ]
    },
    {
      "cell_type": "code",
      "source": [
        "\n",
        "taylor_exp(10,1, 5),taylor_exp(10,1, 20),f(10)"
      ],
      "metadata": {
        "colab": {
          "base_uri": "https://localhost:8080/"
        },
        "id": "bTCMvLeRoiIL",
        "outputId": "920ebd85-714c-4c13-82c9-30653c4d5ecb"
      },
      "execution_count": null,
      "outputs": [
        {
          "output_type": "execute_result",
          "data": {
            "text/plain": [
              "(1210.6547693499472, 22003.206867097284, 22026.465794806718)"
            ]
          },
          "metadata": {},
          "execution_count": 35
        }
      ]
    },
    {
      "cell_type": "markdown",
      "source": [
        "We can see that when using up to the 20th degree, we get extremely close to the real value. Now let's visualize the difference between the real function and our Taylor Expansion when stopping at the 5th degree."
      ],
      "metadata": {
        "id": "tCYXXShWBS_s"
      }
    },
    {
      "cell_type": "code",
      "source": [
        "import numpy as np\n",
        "import matplotlib.pyplot as plt\n",
        "\n",
        "def f(x):\n",
        "    return np.exp(x)\n",
        "\n",
        "\n",
        "x = np.linspace(0, 10, 1000)\n",
        "y = f(x)\n",
        "y_taylor = taylor_exp(x,1, 5)\n",
        "\n",
        "plt.plot(x, y, label='f(x)',color='blue')\n",
        "plt.plot(x, y_taylor, label='5th order Taylor series',color='red')\n",
        "plt.legend()\n",
        "plt.xlabel('x')\n",
        "plt.ylabel('y')\n",
        "plt.show()\n"
      ],
      "metadata": {
        "colab": {
          "base_uri": "https://localhost:8080/",
          "height": 279
        },
        "id": "Fu-HEpI1jZJS",
        "outputId": "3629afc0-613f-453b-a27e-637b81246cb8"
      },
      "execution_count": null,
      "outputs": [
        {
          "output_type": "display_data",
          "data": {
            "text/plain": [
              "<Figure size 432x288 with 1 Axes>"
            ],
            "image/png": "[encoded data removed]"
          },
          "metadata": {
            "needs_background": "light"
          }
        }
      ]
    },
    {
      "cell_type": "markdown",
      "source": [
        "That's not very close is it. This is why it is important to use a sufficient number of degrees in your Taylor Expansions."
      ],
      "metadata": {
        "id": "LXy-ycNmBlIf"
      }
    },
    {
      "cell_type": "markdown",
      "source": [
        "Next We will be looking at a common format for comparing approximations. We will examine the formula for euclidean distance from (0,0)"
      ],
      "metadata": {
        "id": "f9ma31AuCUNa"
      }
    },
    {
      "cell_type": "code",
      "source": [
        "def true_euclid(x,y):\n",
        "  return(math.sqrt((x**2)+(y**2)))\n",
        "\n",
        "def small_brain_euclid(x,y):\n",
        "  return(x+y)\n",
        "\n",
        "def big_brain_euclid(x,y):\n",
        "  return((.96*x)+(.4*y))"
      ],
      "metadata": {
        "id": "D9KXxTUklUDd"
      },
      "execution_count": 54,
      "outputs": []
    },
    {
      "cell_type": "code",
      "source": [
        "my_x_range = range(2,6,1)\n",
        "my_y_range = my_x_range\n",
        "for i in my_x_range:\n",
        "  for j in my_y_range:\n",
        "    print(\"true value:\",\n",
        "    true_euclid(i,j),\n",
        "    \" small brain value:\",\n",
        "    small_brain_euclid(i,j),\n",
        "    \" big brain value:\",\n",
        "    big_brain_euclid(i,j)\n",
        "    )"
      ],
      "metadata": {
        "colab": {
          "base_uri": "https://localhost:8080/"
        },
        "id": "oMXHWTdGIyRw",
        "outputId": "dbc8a45a-2654-486c-fad3-605d67d7f580"
      },
      "execution_count": 57,
      "outputs": [
        {
          "output_type": "stream",
          "name": "stdout",
          "text": [
            "true value: 2.8284271247461903  small brain value: 4  big brain value: 2.7199999999999998\n",
            "true value: 3.605551275463989  small brain value: 5  big brain value: 3.12\n",
            "true value: 4.47213595499958  small brain value: 6  big brain value: 3.52\n",
            "true value: 5.385164807134504  small brain value: 7  big brain value: 3.92\n",
            "true value: 3.605551275463989  small brain value: 5  big brain value: 3.6799999999999997\n",
            "true value: 4.242640687119285  small brain value: 6  big brain value: 4.08\n",
            "true value: 5.0  small brain value: 7  big brain value: 4.48\n",
            "true value: 5.830951894845301  small brain value: 8  big brain value: 4.88\n",
            "true value: 4.47213595499958  small brain value: 6  big brain value: 4.64\n",
            "true value: 5.0  small brain value: 7  big brain value: 5.04\n",
            "true value: 5.656854249492381  small brain value: 8  big brain value: 5.4399999999999995\n",
            "true value: 6.4031242374328485  small brain value: 9  big brain value: 5.84\n",
            "true value: 5.385164807134504  small brain value: 7  big brain value: 5.6\n",
            "true value: 5.830951894845301  small brain value: 8  big brain value: 6.0\n",
            "true value: 6.4031242374328485  small brain value: 9  big brain value: 6.4\n",
            "true value: 7.0710678118654755  small brain value: 10  big brain value: 6.8\n"
          ]
        }
      ]
    },
    {
      "cell_type": "markdown",
      "source": [
        "These approximations are not great, however I would assume that the more comples ones would match their braininess. Approximations of these two types can be used when wanting to avoid using a square root, however I am not sure what the other to types would be used for, as they just add more square roots and logs. I do agree with the braininess to an extent."
      ],
      "metadata": {
        "id": "h4T_s0BiMedz"
      }
    },
    {
      "cell_type": "markdown",
      "source": [
        "We now have some great tools for approximating functions with Taylor Expansions. We have seen why it is necessary to use an N that is sufficient for the approximation. Overdoing it won't help either, because we have also seen that after a certain point the law of diminishing returns kicks in. We really have to choose N wisely. One way we can do this is by considering that while x increases, we might have to choose higher and higher values for N. Our graph shows a great representation of this. For N=5, once x reaches around 6, we can't really take the result of our Taylor Polynomial as a good approximation anymore."
      ],
      "metadata": {
        "id": "fz72HfnuQFXI"
      }
    }
  ]
}