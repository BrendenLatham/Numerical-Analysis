{
  "nbformat": 4,
  "nbformat_minor": 0,
  "metadata": {
    "colab": {
      "provenance": []
    },
    "kernelspec": {
      "name": "python3",
      "display_name": "Python 3"
    },
    "language_info": {
      "name": "python"
    }
  },
  "cells": [
    {
      "cell_type": "markdown",
      "source": [
        "## Project 4\n",
        "### Brenden Latham, Ashish Yonzon, Oluwatobi Afolabi\n",
        "### CPSMA-4413\n",
        "### Dr. Jacob"
      ],
      "metadata": {
        "id": "KE84ZwMefnDd"
      }
    },
    {
      "cell_type": "markdown",
      "source": [
        "In this project we will be performing some Gauss-Jordan elimination. I will first make some functions and go through it manually"
      ],
      "metadata": {
        "id": "YaCpkKESfwWw"
      }
    },
    {
      "cell_type": "code",
      "source": [
        "import math\n",
        "import numpy as np"
      ],
      "metadata": {
        "id": "_jY3-00nT7Jt"
      },
      "execution_count": 195,
      "outputs": []
    },
    {
      "cell_type": "code",
      "source": [
        "#swaps row1 and row2 in matrix A\n",
        "def swap(row1, row2, A):\n",
        "  temp_vec = []\n",
        "  temp_vec = A[row1]\n",
        "  A[row1] = A[row2]\n",
        "  A[row2] = temp_vec\n",
        "  return(A)\n",
        "#adds row1 to row2 in matrix A\n",
        "def add(row1, row2, A):\n",
        "  for i in range(len(A[row1])):\n",
        "     A[row1][i] = A[row1][i]+A[row2][i]\n",
        "  return(A)\n",
        "\n",
        "# multiplies row1 by a constant c in matrix A\n",
        "def multiply(row1, c, A):\n",
        "  for i in range(len(A[row1])):\n",
        "    A[row1][i] = c*A[row1][i]\n",
        "  return(A)\n",
        "\n",
        "# checks to see if the matrix is square. returns boolean\n",
        "def test_square(A):\n",
        "  square = True\n",
        "  for i in range(len(A)):\n",
        "    if len(A) != len(A[i]):\n",
        "      square = False\n",
        "  return(square)"
      ],
      "metadata": {
        "id": "JMWRIEjmM3SX"
      },
      "execution_count": 196,
      "outputs": []
    },
    {
      "cell_type": "markdown",
      "source": [
        "Now that the functions are made, let's solve a system."
      ],
      "metadata": {
        "id": "Hfsqm4dcgIqQ"
      }
    },
    {
      "cell_type": "code",
      "source": [
        "A = [[1,1,3],[3,2,1],[2,1,2]]\n",
        "b = [[2],[1],[3]]\n",
        "A = np.concatenate((A, b), axis=1, dtype=float)\n",
        "print(A,\"\\n\")\n",
        "\n",
        "A = multiply(0,-3,A)\n",
        "A = add(1,0,A)\n",
        "A = multiply(0,-1/3,A)\n",
        "print(A,\"\\n\")\n",
        "\n",
        "A = multiply(0,-2,A)\n",
        "A = add(2,0,A)\n",
        "A = multiply(0,-1/2,A)\n",
        "print(A,\"\\n\")\n",
        "\n",
        "A = multiply(1,-1,A)\n",
        "print(A,\"\\n\")\n",
        "\n",
        "A = add(2,1,A)\n",
        "print(A,\"\\n\")\n",
        "\n",
        "A = multiply(2,1/4,A)\n",
        "print(A,\"\\n\")\n",
        "\n",
        "A = multiply(2,-8,A)\n",
        "A = add(1,2,A)\n",
        "A = multiply(2,-1/8,A)\n",
        "print(A,\"\\n\")\n",
        "\n",
        "A = multiply(2,-3,A)\n",
        "A = add(0,2,A)\n",
        "A = multiply(2,-1/3,A)\n",
        "print(A,\"\\n\")\n",
        "\n",
        "A = multiply(1,-1,A)\n",
        "A = add(0,1,A)\n",
        "A = multiply(1,-1,A)\n",
        "print(A,\"\\n\")"
      ],
      "metadata": {
        "colab": {
          "base_uri": "https://localhost:8080/"
        },
        "id": "JBum-Sq8M6Lo",
        "outputId": "a17564e7-a359-4589-ca75-afc5a53054ba"
      },
      "execution_count": 105,
      "outputs": [
        {
          "output_type": "stream",
          "name": "stdout",
          "text": [
            "[[1. 1. 3. 2.]\n",
            " [3. 2. 1. 1.]\n",
            " [2. 1. 2. 3.]] \n",
            "\n",
            "[[ 1.  1.  3.  2.]\n",
            " [ 0. -1. -8. -5.]\n",
            " [ 2.  1.  2.  3.]] \n",
            "\n",
            "[[ 1.  1.  3.  2.]\n",
            " [ 0. -1. -8. -5.]\n",
            " [ 0. -1. -4. -1.]] \n",
            "\n",
            "[[ 1.  1.  3.  2.]\n",
            " [-0.  1.  8.  5.]\n",
            " [ 0. -1. -4. -1.]] \n",
            "\n",
            "[[ 1.  1.  3.  2.]\n",
            " [-0.  1.  8.  5.]\n",
            " [ 0.  0.  4.  4.]] \n",
            "\n",
            "[[ 1.  1.  3.  2.]\n",
            " [-0.  1.  8.  5.]\n",
            " [ 0.  0.  1.  1.]] \n",
            "\n",
            "[[ 1.  1.  3.  2.]\n",
            " [-0.  1.  0. -3.]\n",
            " [ 0.  0.  1.  1.]] \n",
            "\n",
            "[[ 1.  1.  0. -1.]\n",
            " [-0.  1.  0. -3.]\n",
            " [ 0.  0.  1.  1.]] \n",
            "\n",
            "[[ 1.  0.  0.  2.]\n",
            " [-0.  1.  0. -3.]\n",
            " [ 0.  0.  1.  1.]] \n",
            "\n"
          ]
        }
      ]
    },
    {
      "cell_type": "markdown",
      "source": [
        "It seems our functions work, however this isnt very computer sciency of us. Let's automate the process."
      ],
      "metadata": {
        "id": "Q4HlWxyhgNms"
      }
    },
    {
      "cell_type": "code",
      "source": [
        "def Gauss_elim(A, b):\n",
        "  augmented = np.concatenate((A, b), axis=1, dtype=float)\n",
        "  i = 0\n",
        "  j = i-1\n",
        "  #forward\n",
        "  while i < len(b):\n",
        "    for j in range(i+1, len(b)):\n",
        "      factor = augmented[j][i]/augmented[i][i]\n",
        "      augmented[j] = augmented[j] - (factor*augmented[i])\n",
        "      print(augmented,\"\\n\")\n",
        "    i = i+1\n",
        "  #cleaning\n",
        "  for k in range(len(b)-1, -1, -1):\n",
        "    augmented[k] = augmented[k]/augmented[k][k]\n",
        "    print(augmented,\"\\n\")\n",
        "  #backward\n",
        "  for k in range(len(b)-2, -1, -1):\n",
        "    for l in range(k+1, len(b)):\n",
        "      factor = augmented[k][l]\n",
        "      augmented[k] = augmented[k]-(factor*augmented[l])\n",
        "      print(augmented,\"\\n\")"
      ],
      "metadata": {
        "id": "FIO8lvHqniae"
      },
      "execution_count": 193,
      "outputs": []
    },
    {
      "cell_type": "markdown",
      "source": [
        "Now to test it out on the same system."
      ],
      "metadata": {
        "id": "woauF_TUgchi"
      }
    },
    {
      "cell_type": "code",
      "source": [
        "mat = np.array([[1,1,3],[3,2,1],[2,1,2]])\n",
        "sol = np.array([[2],[1],[3]])\n",
        "\n",
        "Gauss_elim(mat,sol)"
      ],
      "metadata": {
        "colab": {
          "base_uri": "https://localhost:8080/"
        },
        "id": "n4nzvvUUK8yt",
        "outputId": "1ece842b-c02b-4036-fb39-98247097267c"
      },
      "execution_count": 197,
      "outputs": [
        {
          "output_type": "stream",
          "name": "stdout",
          "text": [
            "[[ 1.  1.  3.  2.]\n",
            " [ 0. -1. -8. -5.]\n",
            " [ 2.  1.  2.  3.]] \n",
            "\n",
            "[[ 1.  1.  3.  2.]\n",
            " [ 0. -1. -8. -5.]\n",
            " [ 0. -1. -4. -1.]] \n",
            "\n",
            "[[ 1.  1.  3.  2.]\n",
            " [ 0. -1. -8. -5.]\n",
            " [ 0.  0.  4.  4.]] \n",
            "\n",
            "[[ 1.  1.  3.  2.]\n",
            " [ 0. -1. -8. -5.]\n",
            " [ 0.  0.  1.  1.]] \n",
            "\n",
            "[[ 1.  1.  3.  2.]\n",
            " [-0.  1.  8.  5.]\n",
            " [ 0.  0.  1.  1.]] \n",
            "\n",
            "[[ 1.  1.  3.  2.]\n",
            " [-0.  1.  8.  5.]\n",
            " [ 0.  0.  1.  1.]] \n",
            "\n",
            "[[ 1.  1.  3.  2.]\n",
            " [-0.  1.  0. -3.]\n",
            " [ 0.  0.  1.  1.]] \n",
            "\n",
            "[[ 1.  0.  3.  5.]\n",
            " [-0.  1.  0. -3.]\n",
            " [ 0.  0.  1.  1.]] \n",
            "\n",
            "[[ 1.  0.  0.  2.]\n",
            " [-0.  1.  0. -3.]\n",
            " [ 0.  0.  1.  1.]] \n",
            "\n"
          ]
        }
      ]
    },
    {
      "cell_type": "markdown",
      "source": [
        "It looks like it worked. This method is nice, however our specific implementation of it has flaws. I believe we would have a problem if the diagonal on our system contained a zero. To account for this, we would have to implore methods out of the scope of this project. This method would be doing work on the pivot points to eliminate the possibility of division by zero."
      ],
      "metadata": {
        "id": "jWbfHdK8gg52"
      }
    },
    {
      "cell_type": "markdown",
      "source": [
        "As a last illustration of another flaw in our code we will look at an interesting system"
      ],
      "metadata": {
        "id": "-6zGWYYGhYJA"
      }
    },
    {
      "cell_type": "code",
      "source": [
        "B = [[1,-2],[2,-4]]\n",
        "c = [[2],[4]]\n",
        "Gauss_elim(B,c)"
      ],
      "metadata": {
        "colab": {
          "base_uri": "https://localhost:8080/"
        },
        "id": "sWpBjm1ehF2Q",
        "outputId": "485489d0-28f6-4a2d-effc-3532b97fdc5a"
      },
      "execution_count": 199,
      "outputs": [
        {
          "output_type": "stream",
          "name": "stdout",
          "text": [
            "[[ 1. -2.  2.]\n",
            " [ 0.  0.  0.]] \n",
            "\n",
            "[[ 1. -2.  2.]\n",
            " [nan nan nan]] \n",
            "\n",
            "[[ 1. -2.  2.]\n",
            " [nan nan nan]] \n",
            "\n",
            "[[nan nan nan]\n",
            " [nan nan nan]] \n",
            "\n"
          ]
        },
        {
          "output_type": "stream",
          "name": "stderr",
          "text": [
            "<ipython-input-193-dd53fe1ffdbe>:14: RuntimeWarning: invalid value encountered in true_divide\n",
            "  augmented[k] = augmented[k]/augmented[k][k]\n"
          ]
        }
      ]
    },
    {
      "cell_type": "markdown",
      "source": [
        "The geometric interpretation of the system we used is two parallel lines. Because these lines are parallel, they will cross at no points, and there is no solution for the system. A professional implementation of Gauss-Jordan elimination would also account for this by outputing a message such as \"no solution\" to the user."
      ],
      "metadata": {
        "id": "w-Hb7b4dhdcp"
      }
    }
  ]
}