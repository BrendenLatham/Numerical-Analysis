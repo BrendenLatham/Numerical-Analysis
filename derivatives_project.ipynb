{
  "nbformat": 4,
  "nbformat_minor": 0,
  "metadata": {
    "colab": {
      "provenance": []
    },
    "kernelspec": {
      "name": "python3",
      "display_name": "Python 3"
    },
    "language_info": {
      "name": "python"
    }
  },
  "cells": [
    {
      "cell_type": "markdown",
      "source": [
        "# Project 2\n",
        "#### Ashish Yonzon, Brenden Latham, Oluwatobi Afolabi\n",
        "#### CPSMA-4413 Numerical Analysis\n",
        "#### Dr. Jacob"
      ],
      "metadata": {
        "id": "Ylfe2UwrjwLE"
      }
    },
    {
      "cell_type": "code",
      "source": [],
      "metadata": {
        "id": "Czii7TubjwBJ"
      },
      "execution_count": null,
      "outputs": []
    },
    {
      "cell_type": "code",
      "execution_count": null,
      "metadata": {
        "id": "ZLS6ym0wXmJs"
      },
      "outputs": [],
      "source": [
        "#Estimating the derivatives\n",
        "# Ref: https://www.lehigh.edu/~ineng2/clipper/notes/NumDif.htm\n"
      ]
    },
    {
      "cell_type": "code",
      "source": [
        "import math"
      ],
      "metadata": {
        "id": "9QGGLZN4YzOY"
      },
      "execution_count": 1,
      "outputs": []
    },
    {
      "cell_type": "code",
      "source": [
        "def derivative(f,x,h):\n",
        "  forward = (f(x+h) - f(x))/h\n",
        "  backward = (f(x) - f(x-h))/h\n",
        "  center = (f(x+h) - f(x-h)) /(2*h)\n",
        "  return forward, backward, center\n",
        " "
      ],
      "metadata": {
        "id": "jwImOqWqX1T6"
      },
      "execution_count": 2,
      "outputs": []
    },
    {
      "cell_type": "code",
      "source": [
        "def double_derivative(f,x,h):\n",
        "  finite = (f(x+h) - (2*f(x)) + f(x-h)) / h**2\n",
        "  return finite"
      ],
      "metadata": {
        "id": "PQtAftF1Zspd"
      },
      "execution_count": 11,
      "outputs": []
    },
    {
      "cell_type": "code",
      "source": [
        "def f(x):\n",
        "  return (2*(x**4))+(2*(x**3))"
      ],
      "metadata": {
        "id": "5nrZ0EhAYnua"
      },
      "execution_count": 12,
      "outputs": []
    },
    {
      "cell_type": "code",
      "source": [
        "def f_prime(x):\n",
        "  return (8*(x**3))+(6*(x**2))"
      ],
      "metadata": {
        "id": "sGqfxcEDZN5p"
      },
      "execution_count": 13,
      "outputs": []
    },
    {
      "cell_type": "code",
      "source": [
        "def f_double_prime(x):\n",
        "  return (24*(x**2))+(12*x)"
      ],
      "metadata": {
        "id": "oeYWLddCa10o"
      },
      "execution_count": 14,
      "outputs": []
    },
    {
      "cell_type": "code",
      "source": [
        "derivative(f,2,0.001)"
      ],
      "metadata": {
        "colab": {
          "base_uri": "https://localhost:8080/"
        },
        "id": "aTlGXNVRYx5w",
        "outputId": "23c00ce4-072d-4692-b57a-cbe18c5a11a7"
      },
      "execution_count": 15,
      "outputs": [
        {
          "output_type": "execute_result",
          "data": {
            "text/plain": [
              "(88.0600180019826, 87.94001799799389, 88.00001799998824)"
            ]
          },
          "metadata": {},
          "execution_count": 15
        }
      ]
    },
    {
      "cell_type": "code",
      "source": [
        "f_prime(2)"
      ],
      "metadata": {
        "colab": {
          "base_uri": "https://localhost:8080/"
        },
        "id": "Hmq69_bja6E3",
        "outputId": "70f12155-127f-40f2-89b8-0d3c8c5d37cd"
      },
      "execution_count": 16,
      "outputs": [
        {
          "output_type": "execute_result",
          "data": {
            "text/plain": [
              "88"
            ]
          },
          "metadata": {},
          "execution_count": 16
        }
      ]
    },
    {
      "cell_type": "code",
      "source": [
        "double_derivative(f,2,0.00001)"
      ],
      "metadata": {
        "colab": {
          "base_uri": "https://localhost:8080/"
        },
        "id": "pFKXNDWcY4YR",
        "outputId": "f9dce34d-4fc3-43b0-ba6e-38654a745888"
      },
      "execution_count": 17,
      "outputs": [
        {
          "output_type": "execute_result",
          "data": {
            "text/plain": [
              "120.0000099288445"
            ]
          },
          "metadata": {},
          "execution_count": 17
        }
      ]
    },
    {
      "cell_type": "code",
      "source": [
        "f_double_prime(2)"
      ],
      "metadata": {
        "colab": {
          "base_uri": "https://localhost:8080/"
        },
        "id": "nxOD3A68ayjg",
        "outputId": "bfe214a7-cc6a-433e-a055-afa6f258c1e6"
      },
      "execution_count": 18,
      "outputs": [
        {
          "output_type": "execute_result",
          "data": {
            "text/plain": [
              "120"
            ]
          },
          "metadata": {},
          "execution_count": 18
        }
      ]
    },
    {
      "cell_type": "code",
      "source": [
        "def abs_error(true_value,predicted_value):\n",
        "  abs_error = abs(true_value - predicted_value)\n",
        "  return abs_error "
      ],
      "metadata": {
        "id": "tc48W1vJc-Ay"
      },
      "execution_count": 20,
      "outputs": []
    },
    {
      "cell_type": "code",
      "source": [
        "def rel_error(true_value,predicted_value):\n",
        "  rel_error = abs_error(true_value,predicted_value)/true_value\n",
        "  return rel_error "
      ],
      "metadata": {
        "id": "yYdHPKxxhHRv"
      },
      "execution_count": 21,
      "outputs": []
    },
    {
      "cell_type": "code",
      "source": [
        "import pandas as pd\n",
        "import numpy as np\n",
        "\n",
        "\n",
        "h_values = np.array([1e-1, 1e-2, 1e-3, 1e-4, 1e-5])\n",
        "x=2\n",
        "# Compute the first derivative approximation for each step size\n",
        "forward_first_derivative = derivative(f,x,h_values)[0]\n",
        "backward_first_derivative = derivative(f,x,h_values)[1]\n",
        "central_first_derivative = derivative(f,x,h_values)[2]\n",
        "# Compute the actual value of the first derivative\n",
        "actual_value = f_prime(x)\n",
        "# Compute the absolute of the first derivative\n",
        "abs_error_1 = abs_error(actual_value,forward_first_derivative)\n",
        "abs_error_2 = abs_error(actual_value,backward_first_derivative)\n",
        "abs_error_3 = abs_error(actual_value,central_first_derivative)\n",
        "# Compute the relative value of the first derivative\n",
        "rel_error_1 = 100*rel_error(actual_value,forward_first_derivative)\n",
        "rel_error_2 = 100*rel_error(actual_value,backward_first_derivative)\n",
        "rel_error_3 = 100*rel_error(actual_value,central_first_derivative)\n",
        "# Create a pandas dataframe to store the results\n",
        "data = {\n",
        "    'Step size (h)': h_values,\n",
        "    'Forward difference': forward_first_derivative,\n",
        "    'Backward difference': backward_first_derivative,\n",
        "    'Central difference': central_first_derivative,\n",
        "    'Actual value': actual_value,\n",
        "    'Absolute error (forward)': abs_error_1,\n",
        "    'Absolute error (backward)': abs_error_2,\n",
        "    'Absolute error (central)': abs_error_3,\n",
        "    'Relative error (forward)': rel_error_1,\n",
        "    'Relative error (backward)':rel_error_2,\n",
        "    'Relative error (central)': rel_error_3,\n",
        "}\n",
        "df = pd.DataFrame(data)\n",
        "\n",
        "# Set the index to the step size column\n",
        "df = df.set_index('Step size (h)')\n",
        "print(\"First Order Derivative of 2x^4+2x^3\")\n",
        "df"
      ],
      "metadata": {
        "colab": {
          "base_uri": "https://localhost:8080/",
          "height": 334
        },
        "id": "Oq9D9v0NcEmJ",
        "outputId": "a1114a22-3cb6-4430-87aa-4e9be0d260b9"
      },
      "execution_count": 24,
      "outputs": [
        {
          "output_type": "stream",
          "name": "stdout",
          "text": [
            "First Order Derivative of 2x^4+2x^3\n"
          ]
        },
        {
          "output_type": "execute_result",
          "data": {
            "text/plain": [
              "               Forward difference  Backward difference  Central difference  \\\n",
              "Step size (h)                                                                \n",
              "0.10000                 94.182000            82.178000           88.180000   \n",
              "0.01000                 88.601802            87.401798           88.001800   \n",
              "0.00100                 88.060018            87.940018           88.000018   \n",
              "0.00010                 88.006000            87.994000           88.000000   \n",
              "0.00001                 88.000600            87.999400           88.000000   \n",
              "\n",
              "               Actual value  Absolute error (forward)  \\\n",
              "Step size (h)                                           \n",
              "0.10000                  88                  6.182000   \n",
              "0.01000                  88                  0.601802   \n",
              "0.00100                  88                  0.060018   \n",
              "0.00010                  88                  0.006000   \n",
              "0.00001                  88                  0.000600   \n",
              "\n",
              "               Absolute error (backward)  Absolute error (central)  \\\n",
              "Step size (h)                                                        \n",
              "0.10000                         5.822000              1.800000e-01   \n",
              "0.01000                         0.598202              1.800000e-03   \n",
              "0.00100                         0.059982              1.799999e-05   \n",
              "0.00010                         0.006000              1.800951e-07   \n",
              "0.00001                         0.000600              2.352849e-09   \n",
              "\n",
              "               Relative error (forward)  Relative error (backward)  \\\n",
              "Step size (h)                                                        \n",
              "0.10000                        7.025000                   6.615909   \n",
              "0.01000                        0.683866                   0.679775   \n",
              "0.00100                        0.068202                   0.068161   \n",
              "0.00010                        0.006818                   0.006818   \n",
              "0.00001                        0.000682                   0.000682   \n",
              "\n",
              "               Relative error (central)  \n",
              "Step size (h)                            \n",
              "0.10000                    2.045455e-01  \n",
              "0.01000                    2.045455e-03  \n",
              "0.00100                    2.045453e-05  \n",
              "0.00010                    2.046536e-07  \n",
              "0.00001                    2.673692e-09  "
            ],
            "text/html": [
              "\n",
              "  <div id=\"df-8b63e0f3-2ab1-4a7c-bce4-621fc58f0d96\">\n",
              "    <div class=\"colab-df-container\">\n",
              "      <div>\n",
              "<style scoped>\n",
              "    .dataframe tbody tr th:only-of-type {\n",
              "        vertical-align: middle;\n",
              "    }\n",
              "\n",
              "    .dataframe tbody tr th {\n",
              "        vertical-align: top;\n",
              "    }\n",
              "\n",
              "    .dataframe thead th {\n",
              "        text-align: right;\n",
              "    }\n",
              "</style>\n",
              "<table border=\"1\" class=\"dataframe\">\n",
              "  <thead>\n",
              "    <tr style=\"text-align: right;\">\n",
              "      <th></th>\n",
              "      <th>Forward difference</th>\n",
              "      <th>Backward difference</th>\n",
              "      <th>Central difference</th>\n",
              "      <th>Actual value</th>\n",
              "      <th>Absolute error (forward)</th>\n",
              "      <th>Absolute error (backward)</th>\n",
              "      <th>Absolute error (central)</th>\n",
              "      <th>Relative error (forward)</th>\n",
              "      <th>Relative error (backward)</th>\n",
              "      <th>Relative error (central)</th>\n",
              "    </tr>\n",
              "    <tr>\n",
              "      <th>Step size (h)</th>\n",
              "      <th></th>\n",
              "      <th></th>\n",
              "      <th></th>\n",
              "      <th></th>\n",
              "      <th></th>\n",
              "      <th></th>\n",
              "      <th></th>\n",
              "      <th></th>\n",
              "      <th></th>\n",
              "      <th></th>\n",
              "    </tr>\n",
              "  </thead>\n",
              "  <tbody>\n",
              "    <tr>\n",
              "      <th>0.10000</th>\n",
              "      <td>94.182000</td>\n",
              "      <td>82.178000</td>\n",
              "      <td>88.180000</td>\n",
              "      <td>88</td>\n",
              "      <td>6.182000</td>\n",
              "      <td>5.822000</td>\n",
              "      <td>1.800000e-01</td>\n",
              "      <td>7.025000</td>\n",
              "      <td>6.615909</td>\n",
              "      <td>2.045455e-01</td>\n",
              "    </tr>\n",
              "    <tr>\n",
              "      <th>0.01000</th>\n",
              "      <td>88.601802</td>\n",
              "      <td>87.401798</td>\n",
              "      <td>88.001800</td>\n",
              "      <td>88</td>\n",
              "      <td>0.601802</td>\n",
              "      <td>0.598202</td>\n",
              "      <td>1.800000e-03</td>\n",
              "      <td>0.683866</td>\n",
              "      <td>0.679775</td>\n",
              "      <td>2.045455e-03</td>\n",
              "    </tr>\n",
              "    <tr>\n",
              "      <th>0.00100</th>\n",
              "      <td>88.060018</td>\n",
              "      <td>87.940018</td>\n",
              "      <td>88.000018</td>\n",
              "      <td>88</td>\n",
              "      <td>0.060018</td>\n",
              "      <td>0.059982</td>\n",
              "      <td>1.799999e-05</td>\n",
              "      <td>0.068202</td>\n",
              "      <td>0.068161</td>\n",
              "      <td>2.045453e-05</td>\n",
              "    </tr>\n",
              "    <tr>\n",
              "      <th>0.00010</th>\n",
              "      <td>88.006000</td>\n",
              "      <td>87.994000</td>\n",
              "      <td>88.000000</td>\n",
              "      <td>88</td>\n",
              "      <td>0.006000</td>\n",
              "      <td>0.006000</td>\n",
              "      <td>1.800951e-07</td>\n",
              "      <td>0.006818</td>\n",
              "      <td>0.006818</td>\n",
              "      <td>2.046536e-07</td>\n",
              "    </tr>\n",
              "    <tr>\n",
              "      <th>0.00001</th>\n",
              "      <td>88.000600</td>\n",
              "      <td>87.999400</td>\n",
              "      <td>88.000000</td>\n",
              "      <td>88</td>\n",
              "      <td>0.000600</td>\n",
              "      <td>0.000600</td>\n",
              "      <td>2.352849e-09</td>\n",
              "      <td>0.000682</td>\n",
              "      <td>0.000682</td>\n",
              "      <td>2.673692e-09</td>\n",
              "    </tr>\n",
              "  </tbody>\n",
              "</table>\n",
              "</div>\n",
              "      <button class=\"colab-df-convert\" onclick=\"convertToInteractive('df-8b63e0f3-2ab1-4a7c-bce4-621fc58f0d96')\"\n",
              "              title=\"Convert this dataframe to an interactive table.\"\n",
              "              style=\"display:none;\">\n",
              "        \n",
              "  <svg xmlns=\"http://www.w3.org/2000/svg\" height=\"24px\"viewBox=\"0 0 24 24\"\n",
              "       width=\"24px\">\n",
              "    <path d=\"M0 0h24v24H0V0z\" fill=\"none\"/>\n",
              "    <path d=\"M18.56 5.44l.94 2.06.94-2.06 2.06-.94-2.06-.94-.94-2.06-.94 2.06-2.06.94zm-11 1L8.5 8.5l.94-2.06 2.06-.94-2.06-.94L8.5 2.5l-.94 2.06-2.06.94zm10 10l.94 2.06.94-2.06 2.06-.94-2.06-.94-.94-2.06-.94 2.06-2.06.94z\"/><path d=\"M17.41 7.96l-1.37-1.37c-.4-.4-.92-.59-1.43-.59-.52 0-1.04.2-1.43.59L10.3 9.45l-7.72 7.72c-.78.78-.78 2.05 0 2.83L4 21.41c.39.39.9.59 1.41.59.51 0 1.02-.2 1.41-.59l7.78-7.78 2.81-2.81c.8-.78.8-2.07 0-2.86zM5.41 20L4 18.59l7.72-7.72 1.47 1.35L5.41 20z\"/>\n",
              "  </svg>\n",
              "      </button>\n",
              "      \n",
              "  <style>\n",
              "    .colab-df-container {\n",
              "      display:flex;\n",
              "      flex-wrap:wrap;\n",
              "      gap: 12px;\n",
              "    }\n",
              "\n",
              "    .colab-df-convert {\n",
              "      background-color: #E8F0FE;\n",
              "      border: none;\n",
              "      border-radius: 50%;\n",
              "      cursor: pointer;\n",
              "      display: none;\n",
              "      fill: #1967D2;\n",
              "      height: 32px;\n",
              "      padding: 0 0 0 0;\n",
              "      width: 32px;\n",
              "    }\n",
              "\n",
              "    .colab-df-convert:hover {\n",
              "      background-color: #E2EBFA;\n",
              "      box-shadow: 0px 1px 2px rgba(60, 64, 67, 0.3), 0px 1px 3px 1px rgba(60, 64, 67, 0.15);\n",
              "      fill: #174EA6;\n",
              "    }\n",
              "\n",
              "    [theme=dark] .colab-df-convert {\n",
              "      background-color: #3B4455;\n",
              "      fill: #D2E3FC;\n",
              "    }\n",
              "\n",
              "    [theme=dark] .colab-df-convert:hover {\n",
              "      background-color: #434B5C;\n",
              "      box-shadow: 0px 1px 3px 1px rgba(0, 0, 0, 0.15);\n",
              "      filter: drop-shadow(0px 1px 2px rgba(0, 0, 0, 0.3));\n",
              "      fill: #FFFFFF;\n",
              "    }\n",
              "  </style>\n",
              "\n",
              "      <script>\n",
              "        const buttonEl =\n",
              "          document.querySelector('#df-8b63e0f3-2ab1-4a7c-bce4-621fc58f0d96 button.colab-df-convert');\n",
              "        buttonEl.style.display =\n",
              "          google.colab.kernel.accessAllowed ? 'block' : 'none';\n",
              "\n",
              "        async function convertToInteractive(key) {\n",
              "          const element = document.querySelector('#df-8b63e0f3-2ab1-4a7c-bce4-621fc58f0d96');\n",
              "          const dataTable =\n",
              "            await google.colab.kernel.invokeFunction('convertToInteractive',\n",
              "                                                     [key], {});\n",
              "          if (!dataTable) return;\n",
              "\n",
              "          const docLinkHtml = 'Like what you see? Visit the ' +\n",
              "            '<a target=\"_blank\" href=https://colab.research.google.com/notebooks/data_table.ipynb>data table notebook</a>'\n",
              "            + ' to learn more about interactive tables.';\n",
              "          element.innerHTML = '';\n",
              "          dataTable['output_type'] = 'display_data';\n",
              "          await google.colab.output.renderOutput(dataTable, element);\n",
              "          const docLink = document.createElement('div');\n",
              "          docLink.innerHTML = docLinkHtml;\n",
              "          element.appendChild(docLink);\n",
              "        }\n",
              "      </script>\n",
              "    </div>\n",
              "  </div>\n",
              "  "
            ]
          },
          "metadata": {},
          "execution_count": 24
        }
      ]
    },
    {
      "cell_type": "markdown",
      "source": [
        "Forgive me for not using the function used in module 1 as we had used exponent function which is not as fun as the new function discussed over here. The function turns out to have non-constant second order derivative and the step size really matters as the error tends to decrease "
      ],
      "metadata": {
        "id": "f_74bFOeh-JC"
      }
    },
    {
      "cell_type": "code",
      "source": [
        "def g(t):\n",
        "  return np.exp(t)\n",
        "def euler_lagrange(t):\n",
        "  k_0=(g(1)-((1/99)*((-1000*g(1.1))+1100)) -g(2)+1+((3/99)*((-1000*g(1.1))+1100)))\n",
        "  k_1=g(2)-1-((3/99)*((-1000*g(1.1))+1100))\n",
        "  k_2=(1/99)*((-1000*g(1.1))+1100)\n",
        "  return k_0+((k_1)*(t))+((k_2)*(t**2))"
      ],
      "metadata": {
        "id": "mEWcmOwhenhV"
      },
      "execution_count": 182,
      "outputs": []
    },
    {
      "cell_type": "code",
      "source": [
        "abs_error_lagrange = np.exp(1.2)-euler_lagrange(1.2)\n",
        "rel_error_lagrange = 100*abs_error_lagrange/np.exp(1.2)\n",
        "\n",
        "print(\" Lagrange Calculation:\",euler_lagrange(1.2),\"\\n\",\"Real Value:\",np.exp(1.2),\"\\n\",\"Absolute Error:\",abs_error_lagrange,\"\\n\",\"Relative Error:\",rel_error_lagrange)"
      ],
      "metadata": {
        "colab": {
          "base_uri": "https://localhost:8080/"
        },
        "id": "UgKNv6YqAqxx",
        "outputId": "8b923ba6-c1c4-49da-8eb4-ba90f9a570eb"
      },
      "execution_count": 183,
      "outputs": [
        {
          "output_type": "stream",
          "name": "stdout",
          "text": [
            " Lagrange Calculation: 7.073533086946469 \n",
            " Real Value: 3.3201169227365472 \n",
            " Absolute Error: -3.7534161642099217 \n",
            " Relative Error: -113.0507223557728\n"
          ]
        }
      ]
    },
    {
      "cell_type": "code",
      "source": [
        "import matplotlib.pyplot as plt\n",
        "\n",
        "x = np.linspace(0, 3, 1000)\n",
        "y = g(x)\n",
        "y_lagrange = euler_lagrange(x)\n",
        "\n",
        "plt.plot(x, y, label='e^x',color='blue')\n",
        "plt.plot(x, y_lagrange, label='2nd order lagrange',color='red')\n",
        "plt.legend()\n",
        "plt.xlabel('x')\n",
        "plt.ylabel('y')\n",
        "plt.xlim([0,3])\n",
        "plt.ylim([0,10])\n",
        "plt.show()"
      ],
      "metadata": {
        "colab": {
          "base_uri": "https://localhost:8080/",
          "height": 283
        },
        "id": "6sHUYlz2CkIG",
        "outputId": "d7244590-97a4-4077-86f6-aaec9f739988"
      },
      "execution_count": 184,
      "outputs": [
        {
          "output_type": "display_data",
          "data": {
            "text/plain": [
              "<Figure size 432x288 with 1 Axes>"
            ],
            "image/png": "[encoded data removed]"
          },
          "metadata": {
            "needs_background": "light"
          }
        }
      ]
    },
    {
      "cell_type": "code",
      "source": [
        "def euler_lagrange_derivative(t):\n",
        "  k_1=g(2)-1-((3/99)*((-1000*g(1.1))+1100))\n",
        "  k_2=(1/99)*((-1000*g(1.1))+1100)\n",
        "  return (k_1)+(2*k_2*t)"
      ],
      "metadata": {
        "id": "z-nw7zX4bUfi"
      },
      "execution_count": 191,
      "outputs": []
    },
    {
      "cell_type": "code",
      "source": [
        "abs_error_lagrange_div = np.exp(1.2)-euler_lagrange_derivative(1.2)\n",
        "rel_error_lagrange_div = 100*abs_error_lagrange_div/np.exp(1.2)\n",
        "\n",
        "print(\" Lagrange Calculation Derivative:\",euler_lagrange_derivative(1.2),\"\\n\",\"Real Value:\",np.exp(1.2),\"\\n\",\"Absolute Error:\",abs_error_lagrange_div,\"\\n\",\"Relative Error:\",rel_error_lagrange_div)"
      ],
      "metadata": {
        "colab": {
          "base_uri": "https://localhost:8080/"
        },
        "id": "wv3NT_adb-wd",
        "outputId": "f643fd89-637c-4491-fa4f-297fb951b3f6"
      },
      "execution_count": 193,
      "outputs": [
        {
          "output_type": "stream",
          "name": "stdout",
          "text": [
            " Lagrange Calculation Derivative: 17.929456244060546 \n",
            " Real Value: 3.3201169227365472 \n",
            " Absolute Error: -14.609339321323999 \n",
            " Relative Error: -440.02484434441277\n"
          ]
        }
      ]
    },
    {
      "cell_type": "code",
      "source": [
        "t_vals = np.array([[1,.5,.25,.125,.0625],[1,1,1,1,1],[1,1.5,1.25,1.875,2.8125],[1,2,4,8,16],[1,2.5,2.0625,11.390625,28.4765625]])\n",
        "d_vals = np.array([np.exp(.5),np.exp(1),np.exp(1.5),np.exp(2),np.exp(2.5)])\n",
        "coefficients = np.linalg.inv(t_vals).dot(d_vals)"
      ],
      "metadata": {
        "id": "2aecbY_HHJX6"
      },
      "execution_count": 185,
      "outputs": []
    },
    {
      "cell_type": "code",
      "source": [
        "def euler_lagrange_4(t):\n",
        "  value = 0\n",
        "  exp = 0\n",
        "  for c in coefficients:\n",
        "    value = value+(c*(t**exp))\n",
        "    exp = exp+1\n",
        "  return value"
      ],
      "metadata": {
        "id": "1kt5o9ziJHkw"
      },
      "execution_count": 186,
      "outputs": []
    },
    {
      "cell_type": "code",
      "source": [
        "x = np.linspace(0, 3, 1000)\n",
        "y=g(x)\n",
        "y_lagrange = euler_lagrange_4(x)\n",
        "\n",
        "plt.plot(x, y, label='e^x',color='blue')\n",
        "plt.plot(x, y_lagrange, label='4th order lagrange',color='red')\n",
        "plt.legend()\n",
        "plt.xlabel('x')\n",
        "plt.ylabel('y')\n",
        "plt.xlim([0,3])\n",
        "plt.ylim([0,15])\n",
        "plt.show()"
      ],
      "metadata": {
        "colab": {
          "base_uri": "https://localhost:8080/",
          "height": 279
        },
        "id": "BAPkKXpZKIIk",
        "outputId": "ac6ba833-99a9-43cc-fc34-5af6c192b0c0"
      },
      "execution_count": 187,
      "outputs": [
        {
          "output_type": "display_data",
          "data": {
            "text/plain": [
              "<Figure size 432x288 with 1 Axes>"
            ],
            "image/png": "[encoded data removed]"
          },
          "metadata": {
            "needs_background": "light"
          }
        }
      ]
    },
    {
      "cell_type": "code",
      "source": [
        "def coefficients_n(start,stop,count):\n",
        "  t_vals = []\n",
        "  d_vals = []\n",
        "  for i in np.linspace(start,stop,count):\n",
        "    temp = []\n",
        "    power = 0\n",
        "    for j in np.linspace(start,stop,count):\n",
        "      temp.append(math.pow(i,power))\n",
        "      power = power+1\n",
        "    t_vals.append(temp)\n",
        "    d_vals.append(np.exp(i))\n",
        "  return(np.linalg.inv(t_vals).dot(d_vals))\n",
        "\n",
        "def nth_lagrange(coefficients,t):\n",
        "  value = 0\n",
        "  exp = 0\n",
        "  for c in coefficients:\n",
        "    value = value+(c*(t**exp))\n",
        "    exp = exp+1\n",
        "  return value"
      ],
      "metadata": {
        "id": "ZYcaN7x1KbDP"
      },
      "execution_count": 143,
      "outputs": []
    },
    {
      "cell_type": "code",
      "source": [
        "for i in range(2,8,1) :\n",
        "  x = np.linspace(0, 10, 1000)\n",
        "  y=g(x)\n",
        "  y_taylor = nth_lagrange(coefficients_n(0,10,i),x)\n",
        "\n",
        "  plt.plot(x, y, label='e^x',color='blue')\n",
        "  plt.plot(x, y_taylor, label='lagrange',color='red')\n",
        "  plt.legend()\n",
        "  plt.xlabel('x')\n",
        "  plt.ylabel('y')\n",
        "  plt.xlim([0,10])\n",
        "  plt.ylim([-25000,25000])\n",
        "  plt.show()"
      ],
      "metadata": {
        "colab": {
          "base_uri": "https://localhost:8080/",
          "height": 1000
        },
        "id": "STF3YvoYRQ1O",
        "outputId": "7ad3402d-16d6-4c37-bdfc-580bf21ac611"
      },
      "execution_count": 197,
      "outputs": [
        {
          "output_type": "display_data",
          "data": {
            "text/plain": [
              "<Figure size 432x288 with 1 Axes>"
            ],
            "image/png": "[encoded data removed]"
          },
          "metadata": {
            "needs_background": "light"
          }
        },
        {
          "output_type": "display_data",
          "data": {
            "text/plain": [
              "<Figure size 432x288 with 1 Axes>"
            ],
            "image/png": "[encoded data removed]"
          },
          "metadata": {
            "needs_background": "light"
          }
        },
        {
          "output_type": "display_data",
          "data": {
            "text/plain": [
              "<Figure size 432x288 with 1 Axes>"
            ],
            "image/png": "[encoded data removed]"
          },
          "metadata": {
            "needs_background": "light"
          }
        },
        {
          "output_type": "display_data",
          "data": {
            "text/plain": [
              "<Figure size 432x288 with 1 Axes>"
            ],
            "image/png": "[encoded data removed]"
          },
          "metadata": {
            "needs_background": "light"
          }
        },
        {
          "output_type": "display_data",
          "data": {
            "text/plain": [
              "<Figure size 432x288 with 1 Axes>"
            ],
            "image/png": "[encoded data removed]"
          },
          "metadata": {
            "needs_background": "light"
          }
        },
        {
          "output_type": "display_data",
          "data": {
            "text/plain": [
              "<Figure size 432x288 with 1 Axes>"
            ],
            "image/png": "[encoded data removed]"
          },
          "metadata": {
            "needs_background": "light"
          }
        }
      ]
    }
  ]
}