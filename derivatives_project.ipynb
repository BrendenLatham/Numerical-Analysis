{
  "nbformat": 4,
  "nbformat_minor": 0,
  "metadata": {
    "colab": {
      "provenance": []
    },
    "kernelspec": {
      "name": "python3",
      "display_name": "Python 3"
    },
    "language_info": {
      "name": "python"
    }
  },
  "cells": [
    {
      "cell_type": "markdown",
      "source": [
        "# Project 2\n",
        "#### Ashish Yonzon, Brenden Latham, Oluwatobi Afolabi\n",
        "#### CPSMA-4413 Numerical Analysis\n",
        "#### Dr. Jacob"
      ],
      "metadata": {
        "id": "Ylfe2UwrjwLE"
      }
    },
    {
      "cell_type": "code",
      "source": [],
      "metadata": {
        "id": "hDsHSS9GK9PL"
      },
      "execution_count": null,
      "outputs": []
    },
    {
      "cell_type": "code",
      "execution_count": null,
      "metadata": {
        "id": "ZLS6ym0wXmJs"
      },
      "outputs": [],
      "source": [
        "#Estimating the derivatives\n",
        "# Ref: https://www.lehigh.edu/~ineng2/clipper/notes/NumDif.htm\n"
      ]
    },
    {
      "cell_type": "code",
      "source": [
        "import math\n",
        "import pandas as pd\n",
        "import numpy as np\n",
        "import matplotlib.pyplot as plt"
      ],
      "metadata": {
        "id": "9QGGLZN4YzOY"
      },
      "execution_count": null,
      "outputs": []
    },
    {
      "cell_type": "markdown",
      "source": [
        "In this project we will explore the calculation of derivatives up to the second order as well as Lagrange Interpolations. First we will have a look at derivatives. Previously we examined Taylor Series using the exponential function. We could use that here, however we have agreed it would not be as interesting when exploring derivative calculations, as the nth derivative of the function is equal to the function itself. Instead, we will use a 4th degree polynomial, and later come back to the exponential function when taking a look at Lagrange Interpolation. We beleive this will yield the most interesting results and help us better understand both topics."
      ],
      "metadata": {
        "id": "gmGWKPGJdhrL"
      }
    },
    {
      "cell_type": "markdown",
      "source": [
        "First we build a function for computing the first derivative by forward, backward, and center difference as described by the formulas below that have been derived from the taylor series."
      ],
      "metadata": {
        "id": "B53wYGCefXjO"
      }
    },
    {
      "cell_type": "markdown",
      "source": [
        "### $f'(x) = \\frac{f(x+h)-f(x)}{h}$\n"
      ],
      "metadata": {
        "id": "DClxXncSgCUp"
      }
    },
    {
      "cell_type": "markdown",
      "source": [
        "### $f'(x) = \\frac{f(x)-f(x-h)}{h}$"
      ],
      "metadata": {
        "id": "T8QZAKY53zXG"
      }
    },
    {
      "cell_type": "markdown",
      "source": [
        "### $f'(x) = \\frac{f(x+h)-f(x-h)}{2h}$"
      ],
      "metadata": {
        "id": "UlkcqwUq36Bh"
      }
    },
    {
      "cell_type": "code",
      "source": [
        "def derivative(f,x,h):\n",
        "  forward = (f(x+h) - f(x))/h\n",
        "  backward = (f(x) - f(x-h))/h\n",
        "  center = (f(x+h) - f(x-h)) /(2*h)\n",
        "  return forward, backward, center\n",
        " "
      ],
      "metadata": {
        "id": "jwImOqWqX1T6"
      },
      "execution_count": null,
      "outputs": []
    },
    {
      "cell_type": "markdown",
      "source": [
        "Next we will build a function for computing the second derivative. This function is also derived from the taylor series."
      ],
      "metadata": {
        "id": "FhHjAlhpgULr"
      }
    },
    {
      "cell_type": "markdown",
      "source": [
        "### $ f''(x) = \\frac{f(x+h)-2f(x)+f(x-h)}{h^2} $"
      ],
      "metadata": {
        "id": "_2i1vmQigm2s"
      }
    },
    {
      "cell_type": "code",
      "source": [
        "def double_derivative(f,x,h):\n",
        "  finite = (f(x+h) - (2*f(x)) + f(x-h)) / h**2\n",
        "  return finite"
      ],
      "metadata": {
        "id": "PQtAftF1Zspd"
      },
      "execution_count": null,
      "outputs": []
    },
    {
      "cell_type": "markdown",
      "source": [
        "We now compare our functions with the actual value, and determine the error."
      ],
      "metadata": {
        "id": "Xj3ISzK0guPU"
      }
    },
    {
      "cell_type": "code",
      "source": [
        "# our chosen polynomial\n",
        "def f(x):\n",
        "  return (2*(x**4))+(2*(x**3))"
      ],
      "metadata": {
        "id": "5nrZ0EhAYnua"
      },
      "execution_count": null,
      "outputs": []
    },
    {
      "cell_type": "code",
      "source": [
        "# real derivative\n",
        "def f_prime(x):\n",
        "  return (8*(x**3))+(6*(x**2))"
      ],
      "metadata": {
        "id": "sGqfxcEDZN5p"
      },
      "execution_count": null,
      "outputs": []
    },
    {
      "cell_type": "code",
      "source": [
        "# real second derivative\n",
        "def f_double_prime(x):\n",
        "  return (24*(x**2))+(12*x)"
      ],
      "metadata": {
        "id": "oeYWLddCa10o"
      },
      "execution_count": null,
      "outputs": []
    },
    {
      "cell_type": "code",
      "source": [
        "# absolute error\n",
        "def abs_error(true_value,predicted_value):\n",
        "  abs_error = abs(true_value - predicted_value)\n",
        "  return abs_error "
      ],
      "metadata": {
        "id": "tc48W1vJc-Ay"
      },
      "execution_count": null,
      "outputs": []
    },
    {
      "cell_type": "code",
      "source": [
        "# relative error\n",
        "def rel_error(true_value,predicted_value):\n",
        "  rel_error = abs_error(true_value,predicted_value)/true_value\n",
        "  return rel_error "
      ],
      "metadata": {
        "id": "yYdHPKxxhHRv"
      },
      "execution_count": null,
      "outputs": []
    },
    {
      "cell_type": "code",
      "source": [
        "\n",
        "h_values = np.array([1e-1, 1e-2, 1e-3, 1e-4, 1e-5])\n",
        "x=2\n",
        "# Compute the first derivative approximation for each step size\n",
        "forward_first_derivative = derivative(f,x,h_values)[0]\n",
        "backward_first_derivative = derivative(f,x,h_values)[1]\n",
        "central_first_derivative = derivative(f,x,h_values)[2]\n",
        "# Compute the actual value of the first derivative\n",
        "actual_value = f_prime(x)\n",
        "# Compute the absolute of the first derivative\n",
        "abs_error_1 = abs_error(actual_value,forward_first_derivative)\n",
        "abs_error_2 = abs_error(actual_value,backward_first_derivative)\n",
        "abs_error_3 = abs_error(actual_value,central_first_derivative)\n",
        "# Compute the relative value of the first derivative\n",
        "rel_error_1 = 100*rel_error(actual_value,forward_first_derivative)\n",
        "rel_error_2 = 100*rel_error(actual_value,backward_first_derivative)\n",
        "rel_error_3 = 100*rel_error(actual_value,central_first_derivative)\n",
        "# Create a pandas dataframe to store the results\n",
        "data = {\n",
        "    'Step size (h)': h_values,\n",
        "    'Forward difference': forward_first_derivative,\n",
        "    'Backward difference': backward_first_derivative,\n",
        "    'Central difference': central_first_derivative,\n",
        "    'Actual value': actual_value,\n",
        "    'Absolute error (forward)': abs_error_1,\n",
        "    'Absolute error (backward)': abs_error_2,\n",
        "    'Absolute error (central)': abs_error_3,\n",
        "    'Relative error (forward)': rel_error_1,\n",
        "    'Relative error (backward)':rel_error_2,\n",
        "    'Relative error (central)': rel_error_3,\n",
        "}\n",
        "df = pd.DataFrame(data)\n",
        "\n",
        "# Set the index to the step size column\n",
        "df = df.set_index('Step size (h)')\n",
        "print(\"First Order Derivative of 2x^4+2x^3\")\n",
        "df"
      ],
      "metadata": {
        "colab": {
          "base_uri": "https://localhost:8080/",
          "height": 334
        },
        "id": "Oq9D9v0NcEmJ",
        "outputId": "aa3e8e38-7107-4ef1-e199-049141ed6791"
      },
      "execution_count": null,
      "outputs": [
        {
          "output_type": "stream",
          "name": "stdout",
          "text": [
            "First Order Derivative of 2x^4+2x^3\n"
          ]
        },
        {
          "output_type": "execute_result",
          "data": {
            "text/plain": [
              "               Forward difference  Backward difference  Central difference  \\\n",
              "Step size (h)                                                                \n",
              "0.10000                 94.182000            82.178000           88.180000   \n",
              "0.01000                 88.601802            87.401798           88.001800   \n",
              "0.00100                 88.060018            87.940018           88.000018   \n",
              "0.00010                 88.006000            87.994000           88.000000   \n",
              "0.00001                 88.000600            87.999400           88.000000   \n",
              "\n",
              "               Actual value  Absolute error (forward)  \\\n",
              "Step size (h)                                           \n",
              "0.10000                  88                  6.182000   \n",
              "0.01000                  88                  0.601802   \n",
              "0.00100                  88                  0.060018   \n",
              "0.00010                  88                  0.006000   \n",
              "0.00001                  88                  0.000600   \n",
              "\n",
              "               Absolute error (backward)  Absolute error (central)  \\\n",
              "Step size (h)                                                        \n",
              "0.10000                         5.822000              1.800000e-01   \n",
              "0.01000                         0.598202              1.800000e-03   \n",
              "0.00100                         0.059982              1.799999e-05   \n",
              "0.00010                         0.006000              1.800951e-07   \n",
              "0.00001                         0.000600              2.352849e-09   \n",
              "\n",
              "               Relative error (forward)  Relative error (backward)  \\\n",
              "Step size (h)                                                        \n",
              "0.10000                        7.025000                   6.615909   \n",
              "0.01000                        0.683866                   0.679775   \n",
              "0.00100                        0.068202                   0.068161   \n",
              "0.00010                        0.006818                   0.006818   \n",
              "0.00001                        0.000682                   0.000682   \n",
              "\n",
              "               Relative error (central)  \n",
              "Step size (h)                            \n",
              "0.10000                    2.045455e-01  \n",
              "0.01000                    2.045455e-03  \n",
              "0.00100                    2.045453e-05  \n",
              "0.00010                    2.046536e-07  \n",
              "0.00001                    2.673692e-09  "
            ],
            "text/html": [
              "\n",
              "  <div id=\"df-849d4287-39f8-4710-9c1b-15792979be35\">\n",
              "    <div class=\"colab-df-container\">\n",
              "      <div>\n",
              "<style scoped>\n",
              "    .dataframe tbody tr th:only-of-type {\n",
              "        vertical-align: middle;\n",
              "    }\n",
              "\n",
              "    .dataframe tbody tr th {\n",
              "        vertical-align: top;\n",
              "    }\n",
              "\n",
              "    .dataframe thead th {\n",
              "        text-align: right;\n",
              "    }\n",
              "</style>\n",
              "<table border=\"1\" class=\"dataframe\">\n",
              "  <thead>\n",
              "    <tr style=\"text-align: right;\">\n",
              "      <th></th>\n",
              "      <th>Forward difference</th>\n",
              "      <th>Backward difference</th>\n",
              "      <th>Central difference</th>\n",
              "      <th>Actual value</th>\n",
              "      <th>Absolute error (forward)</th>\n",
              "      <th>Absolute error (backward)</th>\n",
              "      <th>Absolute error (central)</th>\n",
              "      <th>Relative error (forward)</th>\n",
              "      <th>Relative error (backward)</th>\n",
              "      <th>Relative error (central)</th>\n",
              "    </tr>\n",
              "    <tr>\n",
              "      <th>Step size (h)</th>\n",
              "      <th></th>\n",
              "      <th></th>\n",
              "      <th></th>\n",
              "      <th></th>\n",
              "      <th></th>\n",
              "      <th></th>\n",
              "      <th></th>\n",
              "      <th></th>\n",
              "      <th></th>\n",
              "      <th></th>\n",
              "    </tr>\n",
              "  </thead>\n",
              "  <tbody>\n",
              "    <tr>\n",
              "      <th>0.10000</th>\n",
              "      <td>94.182000</td>\n",
              "      <td>82.178000</td>\n",
              "      <td>88.180000</td>\n",
              "      <td>88</td>\n",
              "      <td>6.182000</td>\n",
              "      <td>5.822000</td>\n",
              "      <td>1.800000e-01</td>\n",
              "      <td>7.025000</td>\n",
              "      <td>6.615909</td>\n",
              "      <td>2.045455e-01</td>\n",
              "    </tr>\n",
              "    <tr>\n",
              "      <th>0.01000</th>\n",
              "      <td>88.601802</td>\n",
              "      <td>87.401798</td>\n",
              "      <td>88.001800</td>\n",
              "      <td>88</td>\n",
              "      <td>0.601802</td>\n",
              "      <td>0.598202</td>\n",
              "      <td>1.800000e-03</td>\n",
              "      <td>0.683866</td>\n",
              "      <td>0.679775</td>\n",
              "      <td>2.045455e-03</td>\n",
              "    </tr>\n",
              "    <tr>\n",
              "      <th>0.00100</th>\n",
              "      <td>88.060018</td>\n",
              "      <td>87.940018</td>\n",
              "      <td>88.000018</td>\n",
              "      <td>88</td>\n",
              "      <td>0.060018</td>\n",
              "      <td>0.059982</td>\n",
              "      <td>1.799999e-05</td>\n",
              "      <td>0.068202</td>\n",
              "      <td>0.068161</td>\n",
              "      <td>2.045453e-05</td>\n",
              "    </tr>\n",
              "    <tr>\n",
              "      <th>0.00010</th>\n",
              "      <td>88.006000</td>\n",
              "      <td>87.994000</td>\n",
              "      <td>88.000000</td>\n",
              "      <td>88</td>\n",
              "      <td>0.006000</td>\n",
              "      <td>0.006000</td>\n",
              "      <td>1.800951e-07</td>\n",
              "      <td>0.006818</td>\n",
              "      <td>0.006818</td>\n",
              "      <td>2.046536e-07</td>\n",
              "    </tr>\n",
              "    <tr>\n",
              "      <th>0.00001</th>\n",
              "      <td>88.000600</td>\n",
              "      <td>87.999400</td>\n",
              "      <td>88.000000</td>\n",
              "      <td>88</td>\n",
              "      <td>0.000600</td>\n",
              "      <td>0.000600</td>\n",
              "      <td>2.352849e-09</td>\n",
              "      <td>0.000682</td>\n",
              "      <td>0.000682</td>\n",
              "      <td>2.673692e-09</td>\n",
              "    </tr>\n",
              "  </tbody>\n",
              "</table>\n",
              "</div>\n",
              "      <button class=\"colab-df-convert\" onclick=\"convertToInteractive('df-849d4287-39f8-4710-9c1b-15792979be35')\"\n",
              "              title=\"Convert this dataframe to an interactive table.\"\n",
              "              style=\"display:none;\">\n",
              "        \n",
              "  <svg xmlns=\"http://www.w3.org/2000/svg\" height=\"24px\"viewBox=\"0 0 24 24\"\n",
              "       width=\"24px\">\n",
              "    <path d=\"M0 0h24v24H0V0z\" fill=\"none\"/>\n",
              "    <path d=\"M18.56 5.44l.94 2.06.94-2.06 2.06-.94-2.06-.94-.94-2.06-.94 2.06-2.06.94zm-11 1L8.5 8.5l.94-2.06 2.06-.94-2.06-.94L8.5 2.5l-.94 2.06-2.06.94zm10 10l.94 2.06.94-2.06 2.06-.94-2.06-.94-.94-2.06-.94 2.06-2.06.94z\"/><path d=\"M17.41 7.96l-1.37-1.37c-.4-.4-.92-.59-1.43-.59-.52 0-1.04.2-1.43.59L10.3 9.45l-7.72 7.72c-.78.78-.78 2.05 0 2.83L4 21.41c.39.39.9.59 1.41.59.51 0 1.02-.2 1.41-.59l7.78-7.78 2.81-2.81c.8-.78.8-2.07 0-2.86zM5.41 20L4 18.59l7.72-7.72 1.47 1.35L5.41 20z\"/>\n",
              "  </svg>\n",
              "      </button>\n",
              "      \n",
              "  <style>\n",
              "    .colab-df-container {\n",
              "      display:flex;\n",
              "      flex-wrap:wrap;\n",
              "      gap: 12px;\n",
              "    }\n",
              "\n",
              "    .colab-df-convert {\n",
              "      background-color: #E8F0FE;\n",
              "      border: none;\n",
              "      border-radius: 50%;\n",
              "      cursor: pointer;\n",
              "      display: none;\n",
              "      fill: #1967D2;\n",
              "      height: 32px;\n",
              "      padding: 0 0 0 0;\n",
              "      width: 32px;\n",
              "    }\n",
              "\n",
              "    .colab-df-convert:hover {\n",
              "      background-color: #E2EBFA;\n",
              "      box-shadow: 0px 1px 2px rgba(60, 64, 67, 0.3), 0px 1px 3px 1px rgba(60, 64, 67, 0.15);\n",
              "      fill: #174EA6;\n",
              "    }\n",
              "\n",
              "    [theme=dark] .colab-df-convert {\n",
              "      background-color: #3B4455;\n",
              "      fill: #D2E3FC;\n",
              "    }\n",
              "\n",
              "    [theme=dark] .colab-df-convert:hover {\n",
              "      background-color: #434B5C;\n",
              "      box-shadow: 0px 1px 3px 1px rgba(0, 0, 0, 0.15);\n",
              "      filter: drop-shadow(0px 1px 2px rgba(0, 0, 0, 0.3));\n",
              "      fill: #FFFFFF;\n",
              "    }\n",
              "  </style>\n",
              "\n",
              "      <script>\n",
              "        const buttonEl =\n",
              "          document.querySelector('#df-849d4287-39f8-4710-9c1b-15792979be35 button.colab-df-convert');\n",
              "        buttonEl.style.display =\n",
              "          google.colab.kernel.accessAllowed ? 'block' : 'none';\n",
              "\n",
              "        async function convertToInteractive(key) {\n",
              "          const element = document.querySelector('#df-849d4287-39f8-4710-9c1b-15792979be35');\n",
              "          const dataTable =\n",
              "            await google.colab.kernel.invokeFunction('convertToInteractive',\n",
              "                                                     [key], {});\n",
              "          if (!dataTable) return;\n",
              "\n",
              "          const docLinkHtml = 'Like what you see? Visit the ' +\n",
              "            '<a target=\"_blank\" href=https://colab.research.google.com/notebooks/data_table.ipynb>data table notebook</a>'\n",
              "            + ' to learn more about interactive tables.';\n",
              "          element.innerHTML = '';\n",
              "          dataTable['output_type'] = 'display_data';\n",
              "          await google.colab.output.renderOutput(dataTable, element);\n",
              "          const docLink = document.createElement('div');\n",
              "          docLink.innerHTML = docLinkHtml;\n",
              "          element.appendChild(docLink);\n",
              "        }\n",
              "      </script>\n",
              "    </div>\n",
              "  </div>\n",
              "  "
            ]
          },
          "metadata": {},
          "execution_count": 10
        }
      ]
    },
    {
      "cell_type": "markdown",
      "source": [
        "Here we have our results. We can see that the central difference approaches the real value faster than the forward and backward difference as the step size gets smaller. By the time we get to the smallest step size, we end up with a very small error. Even with our second largest step size we see a relative error of less than one percent with all methods."
      ],
      "metadata": {
        "id": "f_74bFOeh-JC"
      }
    },
    {
      "cell_type": "markdown",
      "source": [
        "We will now explore Lagrange Interpolation with the exponential function. First, let's look at the formula for a Lagrange Interpolation."
      ],
      "metadata": {
        "id": "3JcwXx4RiX9x"
      }
    },
    {
      "cell_type": "markdown",
      "source": [
        "#### $f_n(x) = \\sum_{i=1}^{n} \\left(∏_{j=1,j \\not = i}^n(\\frac{x-x_j}{x^i-x_j})\\right)$"
      ],
      "metadata": {
        "id": "O5pg3XnWuhkH"
      }
    },
    {
      "cell_type": "markdown",
      "source": [
        "Now this looks very nasty, so it might help to break it down."
      ],
      "metadata": {
        "id": "Ao4fnJs1lFbq"
      }
    },
    {
      "cell_type": "markdown",
      "source": [
        "Each of the given data points in the above equation is croosways by the resulting polynomial thanks to the elements in the Lagrange interpolation weighting function, Li(x). Li(x) is described in the Lagrange interpolation formula as the sum of n factors, one for each data point xi:\n",
        "\n",
        "As a linear function of x, each factor in Li(x) is equal to 1 when x equals xi and 0 when x equals any other data point (xj). We then obtain a polynomial that traverses each of the n data points when we multiply all the elements together.\n",
        "\n",
        "The interpolation polynomial is also guaranteed to be unique by the denominator (xi - xj), which guarantees that it can only pass through the specified data point xi with a particular slope. If not, there could be an unlimited number of polynomials that pass through all the provided data points.\n",
        "\n"
      ],
      "metadata": {
        "id": "FXaHzTT2nZ1-"
      }
    },
    {
      "cell_type": "markdown",
      "source": [
        "We will first look at the interpolation with three points relative to the center we used in the previous project. We centered out Taylor Seried at 1, so our points will be as seen below in the table."
      ],
      "metadata": {
        "id": "ljxLAalZjdR2"
      }
    },
    {
      "cell_type": "markdown",
      "source": [
        "| x   | f(x)  |\n",
        "|-----|-------|\n",
        "| 1   | e^1   |\n",
        "| 1.1 | e^1.1 |\n",
        "| 2   | e^2   |"
      ],
      "metadata": {
        "id": "rk8SCC-4i_06"
      }
    },
    {
      "cell_type": "markdown",
      "source": [
        "Now with these three points, we get the following."
      ],
      "metadata": {
        "id": "cTp6lH8flMc3"
      }
    },
    {
      "cell_type": "markdown",
      "source": [
        "#### $f_3(x) ≈ e \\frac{(x-1.1)(x-2)}{(1-1.1)(1-2)} + e^{1.1} \\frac{(x-1)(x-2)}{(1.1-1)(1.1-2)} + e^2 \\frac{(x-1)(x-1.1)}{(2-1)(2-1.1)} $"
      ],
      "metadata": {
        "id": "3U3w2BTmlS7s"
      }
    },
    {
      "cell_type": "markdown",
      "source": [
        "It is implemented below"
      ],
      "metadata": {
        "id": "tLclBMuLmz__"
      }
    },
    {
      "cell_type": "code",
      "source": [
        "def lagrange(x):\n",
        "  term1 = math.exp(1)*(x-1.1)*(x-2)/(1-1.1)/(1-2)\n",
        "  term2 = math.exp(1.1)*(x-1)*(x-2)/(1.1-1)/(1.1-2)\n",
        "  term3 = math.exp(2)*(x-1.1)*(x-1)/(2-1.1)/(2-1)\n",
        "  return term1+term2+term3\n",
        "\n",
        "def g(t):\n",
        "  return np.exp(t)"
      ],
      "metadata": {
        "id": "jRZmQUhGj28v"
      },
      "execution_count": null,
      "outputs": []
    },
    {
      "cell_type": "markdown",
      "source": [
        "We will now look at the errors for our Lagrange Interpolation in relation to the actual function values at x=1.2."
      ],
      "metadata": {
        "id": "keJzNHRhr3c8"
      }
    },
    {
      "cell_type": "code",
      "source": [
        "abs_error_lagrange = np.exp(1.2)-lagrange(1.2)\n",
        "rel_error_lagrange = 100*abs_error_lagrange/np.exp(1.2)\n",
        "\n",
        "print(\" Lagrange Calculation:\",lagrange(1.2),\"\\n\",\"Real Value:\",np.exp(1.2),\"\\n\",\"Absolute Error:\",abs_error_lagrange,\"\\n\",\"Relative Error:\",rel_error_lagrange)"
      ],
      "metadata": {
        "colab": {
          "base_uri": "https://localhost:8080/"
        },
        "id": "eBtRsqdYr2VO",
        "outputId": "96be757c-3f68-48cc-c0d3-f57672b593ae"
      },
      "execution_count": null,
      "outputs": [
        {
          "output_type": "stream",
          "name": "stdout",
          "text": [
            " Lagrange Calculation: 3.33031538200266 \n",
            " Real Value: 3.3201169227365472 \n",
            " Absolute Error: -0.010198459266112625 \n",
            " Relative Error: -0.30717169013754875\n"
          ]
        }
      ]
    },
    {
      "cell_type": "markdown",
      "source": [
        "We have achieved a very low error. I would say our interpolation is accurate enough for points between 1 and 2. Let's visualize this in a plot"
      ],
      "metadata": {
        "id": "-p08RiaGsjSS"
      }
    },
    {
      "cell_type": "code",
      "source": [
        "x = np.linspace(0, 3, 1000)\n",
        "y = g(x)\n",
        "y_lagrange = lagrange(x)\n",
        "\n",
        "plt.plot(x, y, label='e^x',color='blue')\n",
        "plt.plot(x, y_lagrange, label='2nd order lagrange',color='red')\n",
        "plt.legend()\n",
        "plt.xlabel('x')\n",
        "plt.ylabel('y')\n",
        "plt.xlim([0,3])\n",
        "plt.ylim([0,12])\n",
        "plt.show()"
      ],
      "metadata": {
        "colab": {
          "base_uri": "https://localhost:8080/",
          "height": 283
        },
        "id": "TyRTBiaXlwR_",
        "outputId": "cb8bb233-6154-4aad-ade3-58c8ae417600"
      },
      "execution_count": null,
      "outputs": [
        {
          "output_type": "display_data",
          "data": {
            "text/plain": [
              "<Figure size 432x288 with 1 Axes>"
            ],
            "image/png": "[encoded data removed]"
          },
          "metadata": {
            "needs_background": "light"
          }
        }
      ]
    },
    {
      "cell_type": "markdown",
      "source": [
        "That looks like a really good approximation. Now let's look at the derivative."
      ],
      "metadata": {
        "id": "7qbJMkoii2Ad"
      }
    },
    {
      "cell_type": "code",
      "source": [
        "def lagrange_dif(x):\n",
        "  term1 = math.exp(1)*((2*x)-(1.1+2))/(1-1.1)/(1-2)\n",
        "  term2 = math.exp(1.1)*((2*x)-(1+2))/(1.1-1)/(1.1-2)\n",
        "  term3 = math.exp(2)*((2*x)-(1+1.1))/(2-1)/(2-1.1)\n",
        "  return(term1+term2+term3)"
      ],
      "metadata": {
        "id": "9XF_pyoepUYB"
      },
      "execution_count": null,
      "outputs": []
    },
    {
      "cell_type": "markdown",
      "source": [
        "We will now look at the error here too."
      ],
      "metadata": {
        "id": "IlkHE56Ks33F"
      }
    },
    {
      "cell_type": "code",
      "source": [
        "abs_error_lagrange_dif = np.exp(1.2)-lagrange_dif(1.2)\n",
        "rel_error_lagrange_dif = 100*abs_error_lagrange_dif/np.exp(1.2)\n",
        "\n",
        "print(\" Lagrange Calculation:\",lagrange_dif(1.2),\"\\n\",\"Real Value:\",np.exp(1.2),\"\\n\",\"Absolute Error:\",abs_error_lagrange_dif,\"\\n\",\"Relative Error:\",rel_error_lagrange_dif)"
      ],
      "metadata": {
        "colab": {
          "base_uri": "https://localhost:8080/"
        },
        "id": "z0GSO2Ios7ci",
        "outputId": "24807fda-59d3-4697-bf95-0197412facae"
      },
      "execution_count": null,
      "outputs": [
        {
          "output_type": "stream",
          "name": "stdout",
          "text": [
            " Lagrange Calculation: 3.462819393406456 \n",
            " Real Value: 3.3201169227365472 \n",
            " Absolute Error: -0.1427024706699087 \n",
            " Relative Error: -4.298115819134729\n"
          ]
        }
      ]
    },
    {
      "cell_type": "markdown",
      "source": [
        "As expected our errors aren't as small here, but the derivative of the interpolation is still accurate enough. It will be plotted below"
      ],
      "metadata": {
        "id": "nQe8kUBUtOFj"
      }
    },
    {
      "cell_type": "code",
      "source": [
        "x = np.linspace(0, 3, 1000)\n",
        "y = g(x)\n",
        "y_lagrange = lagrange_dif(x)\n",
        "\n",
        "plt.plot(x, y, label='e^x',color='blue')\n",
        "plt.plot(x, y_lagrange, label='2nd order lagrange derivative',color='red')\n",
        "plt.legend()\n",
        "plt.xlabel('x')\n",
        "plt.ylabel('y')\n",
        "plt.xlim([0,3])\n",
        "plt.ylim([0,12])\n",
        "plt.show()"
      ],
      "metadata": {
        "colab": {
          "base_uri": "https://localhost:8080/",
          "height": 283
        },
        "id": "eCx8uCf9qGOl",
        "outputId": "790e616f-0d92-430f-f81a-ccd460267241"
      },
      "execution_count": null,
      "outputs": [
        {
          "output_type": "display_data",
          "data": {
            "text/plain": [
              "<Figure size 432x288 with 1 Axes>"
            ],
            "image/png": "[encoded data removed]"
          },
          "metadata": {
            "needs_background": "light"
          }
        }
      ]
    },
    {
      "cell_type": "markdown",
      "source": [
        "The derivative is also a very good approximation, but not as good as the original function."
      ],
      "metadata": {
        "id": "iFzK2FW9rWPb"
      }
    },
    {
      "cell_type": "markdown",
      "source": [
        "It is clear that the intersection of the Lagrange Interpolation and the actual function is dependent on the points known for the actual function. The downfall in computing the derivative by Lagrange Interpolation when the continuous function is known is lack of accuracy. With each derivation of the Lagrange Polynomial, we see a small increase in error. This error can be minimised with methods for computing derivatives of the continuous function."
      ],
      "metadata": {
        "id": "UzumuXFoi2ms"
      }
    },
    {
      "cell_type": "markdown",
      "source": [
        "This next part is not part of the assignment, however I wish to illustrate the difference in accuracy of a Lagrange Interpolation and a Direct Fit Polynomial for the same function."
      ],
      "metadata": {
        "id": "Stp-wDQIu02r"
      }
    },
    {
      "cell_type": "code",
      "source": [
        "def direct_fit(t):\n",
        "  k_0=(g(1)-((1/99)*((-1000*g(1.1))+1100)) -g(2)+1+((3/99)*((-1000*g(1.1))+1100)))\n",
        "  k_1=g(2)-1-((3/99)*((-1000*g(1.1))+1100))\n",
        "  k_2=(1/99)*((-1000*g(1.1))+1100)\n",
        "  return k_0+((k_1)*(t))+((k_2)*(t**2))"
      ],
      "metadata": {
        "id": "mEWcmOwhenhV"
      },
      "execution_count": null,
      "outputs": []
    },
    {
      "cell_type": "code",
      "source": [
        "abs_error_direct = np.exp(1.2)-direct_fit(1.2)\n",
        "rel_error_direct = 100*abs_error_direct/np.exp(1.2)\n",
        "\n",
        "print(\" Lagrange Calculation:\",direct_fit(1.2),\"\\n\",\"Real Value:\",np.exp(1.2),\"\\n\",\"Absolute Error:\",abs_error_direct,\"\\n\",\"Relative Error:\",rel_error_direct)"
      ],
      "metadata": {
        "colab": {
          "base_uri": "https://localhost:8080/"
        },
        "id": "UgKNv6YqAqxx",
        "outputId": "fa4f29dd-af18-44c7-afbe-cbc491f2644a"
      },
      "execution_count": null,
      "outputs": [
        {
          "output_type": "stream",
          "name": "stdout",
          "text": [
            " Lagrange Calculation: 7.073533086946469 \n",
            " Real Value: 3.3201169227365472 \n",
            " Absolute Error: -3.7534161642099217 \n",
            " Relative Error: -113.0507223557728\n"
          ]
        }
      ]
    },
    {
      "cell_type": "markdown",
      "source": [
        "Because there are only three coefficients to find, we calculated them by hand. This direct fit polynomial between 1 and 2 with three points yields very inacurate results for values not between 1 and 1.1. Let's see what the derivative looks like."
      ],
      "metadata": {
        "id": "NyVj2jUYjDr1"
      }
    },
    {
      "cell_type": "code",
      "source": [
        "def direct_dif(t):\n",
        "  k_1=g(2)-1-((3/99)*((-1000*g(1.1))+1100))\n",
        "  k_2=(1/99)*((-1000*g(1.1))+1100)\n",
        "  return (k_1)+(2*k_2*t)"
      ],
      "metadata": {
        "id": "o1qLPDPjlDAu"
      },
      "execution_count": null,
      "outputs": []
    },
    {
      "cell_type": "code",
      "source": [
        "abs_error_direct_dif = np.exp(1.2)-direct_dif(1.2)\n",
        "rel_error_direct_dif = 100*abs_error_direct_dif/np.exp(1.2)\n",
        "\n",
        "print(\" Lagrange Calculation Derivative:\",direct_dif(1.2),\"\\n\",\"Real Value:\",np.exp(1.2),\"\\n\",\"Absolute Error:\",abs_error_direct_dif,\"\\n\",\"Relative Error:\",rel_error_direct_dif)"
      ],
      "metadata": {
        "colab": {
          "base_uri": "https://localhost:8080/"
        },
        "id": "tb6qarH1lC1j",
        "outputId": "6d4ed0c7-000c-47b0-e52a-4af14f0143f2"
      },
      "execution_count": null,
      "outputs": [
        {
          "output_type": "stream",
          "name": "stdout",
          "text": [
            " Lagrange Calculation Derivative: 17.929456244060546 \n",
            " Real Value: 3.3201169227365472 \n",
            " Absolute Error: -14.609339321323999 \n",
            " Relative Error: -440.02484434441277\n"
          ]
        }
      ]
    },
    {
      "cell_type": "markdown",
      "source": [
        "As expected the derivative is extremely innacurate. We will now look at our polynomial and the actual function graphed together. Before we do this, it might be usefull to go over what a direct fit polynomail actualy is."
      ],
      "metadata": {
        "id": "Ju99waUDlG7E"
      }
    },
    {
      "cell_type": "markdown",
      "source": [
        "##### Given points $(x_0,f(x_0)), (x_1(f(x_1)), ... , (x_n,f(x_n))$ for a function $f(x)$, we can build an equation such that $f(x_k) = c_nx_k^n+c_{n-1}x_{k}^{n-1}, ... , c_1x_k+c_0$ for each point $(x_k,f(x_k))$. This, for $n$ points, will give us a system of $n$ equations on $n$ unknowns. We then have various methods of solving the system for the coefficients. This will give us a direct fit polynomial $P(x) = c_nx^n+c_{n-1}x^{n-1}+...+c_1x+c_0$. Our polynomial will intersect the original function at each of our known points, and be a good approximation between our lowest and highest known value of x (assuming enough points in that interval are known and spacing is somewhat even)."
      ],
      "metadata": {
        "id": "vKvC9wGK5hxH"
      }
    },
    {
      "cell_type": "markdown",
      "source": [
        "Now for the plot"
      ],
      "metadata": {
        "id": "ciVRnfGGw9XH"
      }
    },
    {
      "cell_type": "code",
      "source": [
        "\n",
        "x = np.linspace(0, 3, 1000)\n",
        "y = g(x)\n",
        "y_direct = direct_fit(x)\n",
        "\n",
        "plt.plot(x, y, label='e^x',color='blue')\n",
        "plt.plot(x, y_direct, label='2nd order polynomial',color='red')\n",
        "plt.legend()\n",
        "plt.xlabel('x')\n",
        "plt.ylabel('y')\n",
        "plt.xlim([0,3])\n",
        "plt.ylim([0,12])\n",
        "plt.show()"
      ],
      "metadata": {
        "colab": {
          "base_uri": "https://localhost:8080/",
          "height": 283
        },
        "id": "6sHUYlz2CkIG",
        "outputId": "de75a2de-1f30-4350-e564-eb66c22b6347"
      },
      "execution_count": null,
      "outputs": [
        {
          "output_type": "display_data",
          "data": {
            "text/plain": [
              "<Figure size 432x288 with 1 Axes>"
            ],
            "image/png": "[encoded data removed]"
          },
          "metadata": {
            "needs_background": "light"
          }
        }
      ]
    },
    {
      "cell_type": "markdown",
      "source": [
        "We really do not have a good fit. I think we need to see what happens when we add more points. Let's fit between .5 and 2.5 with 5 evenly spread points. This will give us a 4th degree Lagrange Interpolation. I will use a numpy function to find the coefficients. This function utilizes methods from linear algebra that would normaly not work for the exponential function. However we can use extremely close approximations for the values of the exponential and still get a good fit."
      ],
      "metadata": {
        "id": "VcErlzRuj-tW"
      }
    },
    {
      "cell_type": "code",
      "source": [
        "t_vals = np.array([[1,.5,.25,.125,.0625],[1,1,1,1,1],[1,1.5,1.25,1.875,2.8125],[1,2,4,8,16],[1,2.5,2.0625,11.390625,28.4765625]])\n",
        "d_vals = np.array([np.exp(.5),np.exp(1),np.exp(1.5),np.exp(2),np.exp(2.5)])\n",
        "coefficients = np.linalg.inv(t_vals).dot(d_vals)"
      ],
      "metadata": {
        "id": "2aecbY_HHJX6"
      },
      "execution_count": null,
      "outputs": []
    },
    {
      "cell_type": "code",
      "source": [
        "def direct_fit_4(t):\n",
        "  value = 0\n",
        "  exp = 0\n",
        "  for c in coefficients:\n",
        "    value = value+(c*(t**exp))\n",
        "    exp = exp+1\n",
        "  return value"
      ],
      "metadata": {
        "id": "1kt5o9ziJHkw"
      },
      "execution_count": null,
      "outputs": []
    },
    {
      "cell_type": "code",
      "source": [
        "x = np.linspace(0, 3, 1000)\n",
        "y=g(x)\n",
        "y_direct = direct_fit_4(x)\n",
        "\n",
        "plt.plot(x, y, label='e^x',color='blue')\n",
        "plt.plot(x, y_direct, label='4th order polynomial',color='red')\n",
        "plt.legend()\n",
        "plt.xlabel('x')\n",
        "plt.ylabel('y')\n",
        "plt.xlim([0,3])\n",
        "plt.ylim([0,15])\n",
        "plt.show()"
      ],
      "metadata": {
        "colab": {
          "base_uri": "https://localhost:8080/",
          "height": 279
        },
        "id": "BAPkKXpZKIIk",
        "outputId": "bc8d822f-20a5-448b-f87a-46b04230b628"
      },
      "execution_count": null,
      "outputs": [
        {
          "output_type": "display_data",
          "data": {
            "text/plain": [
              "<Figure size 432x288 with 1 Axes>"
            ],
            "image/png": "[encoded data removed]"
          },
          "metadata": {
            "needs_background": "light"
          }
        }
      ]
    },
    {
      "cell_type": "markdown",
      "source": [
        "This is starting to look more accurate. Here is a function to show how the Polynomial approaches the actual function on a fixed interval as the step count increases."
      ],
      "metadata": {
        "id": "WtekfDVRl7ct"
      }
    },
    {
      "cell_type": "code",
      "source": [
        "def coefficients_n(start,stop,count):\n",
        "  t_vals = []\n",
        "  d_vals = []\n",
        "  for i in np.linspace(start,stop,count):\n",
        "    temp = []\n",
        "    power = 0\n",
        "    for j in np.linspace(start,stop,count):\n",
        "      temp.append(math.pow(i,power))\n",
        "      power = power+1\n",
        "    t_vals.append(temp)\n",
        "    d_vals.append(np.exp(i))\n",
        "  return(np.linalg.inv(t_vals).dot(d_vals))\n",
        "\n",
        "def nth_polynomial(coefficients,t):\n",
        "  value = 0\n",
        "  exp = 0\n",
        "  for c in coefficients:\n",
        "    value = value+(c*(t**exp))\n",
        "    exp = exp+1\n",
        "  return value"
      ],
      "metadata": {
        "id": "ZYcaN7x1KbDP"
      },
      "execution_count": null,
      "outputs": []
    },
    {
      "cell_type": "code",
      "source": [
        "for i in range(2,8,1) :\n",
        "  x = np.linspace(0, 10, 1000)\n",
        "  y=g(x)\n",
        "  y_direct = nth_polynomial(coefficients_n(0,10,i),x)\n",
        "  Label = \"polynomial of order \"+str(i-1)\n",
        "\n",
        "  plt.plot(x, y, label='e^x',color='blue')\n",
        "  plt.plot(x, y_direct, label=Label,color='red')\n",
        "  plt.legend()\n",
        "  plt.xlabel('x')\n",
        "  plt.ylabel('y')\n",
        "  plt.xlim([0,10])\n",
        "  plt.ylim([-25000,25000])\n",
        "  plt.show()"
      ],
      "metadata": {
        "colab": {
          "base_uri": "https://localhost:8080/",
          "height": 1000
        },
        "id": "STF3YvoYRQ1O",
        "outputId": "0001e3a9-c9ff-414f-b18a-ff1d14acda7b"
      },
      "execution_count": null,
      "outputs": [
        {
          "output_type": "display_data",
          "data": {
            "text/plain": [
              "<Figure size 432x288 with 1 Axes>"
            ],
            "image/png": "[encoded data removed]"
          },
          "metadata": {
            "needs_background": "light"
          }
        },
        {
          "output_type": "display_data",
          "data": {
            "text/plain": [
              "<Figure size 432x288 with 1 Axes>"
            ],
            "image/png": "[encoded data removed]"
          },
          "metadata": {
            "needs_background": "light"
          }
        },
        {
          "output_type": "display_data",
          "data": {
            "text/plain": [
              "<Figure size 432x288 with 1 Axes>"
            ],
            "image/png": "[encoded data removed]"
          },
          "metadata": {
            "needs_background": "light"
          }
        },
        {
          "output_type": "display_data",
          "data": {
            "text/plain": [
              "<Figure size 432x288 with 1 Axes>"
            ],
            "image/png": "[encoded data removed]"
          },
          "metadata": {
            "needs_background": "light"
          }
        },
        {
          "output_type": "display_data",
          "data": {
            "text/plain": [
              "<Figure size 432x288 with 1 Axes>"
            ],
            "image/png": "[encoded data removed]"
          },
          "metadata": {
            "needs_background": "light"
          }
        },
        {
          "output_type": "display_data",
          "data": {
            "text/plain": [
              "<Figure size 432x288 with 1 Axes>"
            ],
            "image/png": "[encoded data removed]"
          },
          "metadata": {
            "needs_background": "light"
          }
        }
      ]
    },
    {
      "cell_type": "markdown",
      "source": [
        "It looks like the order of the polynomial determines the number of points for which the polynomial intersects the real function. Meaning the number of points of intersection will always be at least equal to the number of coefficients in the polynomial. This is similar to the Lagrange Interpolation. As we stated previously, this isn't part of the project, however we believe it to be an interesting and important part of approximating for discrete functions. It is now clear why Lagrange Interpolation is often a better choice than direct fit polynomials."
      ],
      "metadata": {
        "id": "2yvC8_fmn9YQ"
      }
    },
    {
      "cell_type": "code",
      "source": [
        "def lagrange_interpolation(x, y, x0):\n",
        "    \"\"\"\n",
        "    Computes the value of Lagrange interpolation at x0 using the data points (x, y)\n",
        "    \"\"\"\n",
        "    n = len(x)\n",
        "    if len(y) != n:\n",
        "        raise ValueError('x and y must have the same length')\n",
        "\n",
        "    result = 0.0\n",
        "    for i in range(n):\n",
        "        term = y[i]\n",
        "        for j in range(n):\n",
        "            if j != i:\n",
        "                term *= (x0 - x[j]) / (x[i] - x[j])\n",
        "        result += term\n",
        "\n",
        "    return result\n"
      ],
      "metadata": {
        "id": "a66SN4m_LAH2"
      },
      "execution_count": null,
      "outputs": []
    }
  ]
}