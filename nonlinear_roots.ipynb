{
  "nbformat": 4,
  "nbformat_minor": 0,
  "metadata": {
    "colab": {
      "provenance": []
    },
    "kernelspec": {
      "name": "python3",
      "display_name": "Python 3"
    },
    "language_info": {
      "name": "python"
    }
  },
  "cells": [
    {
      "cell_type": "markdown",
      "source": [
        "# Project 2\n",
        "## Ashish Yonzon, Brenden Latham, Oluwatobi Afolabi\n",
        "## CPSMA-4413 Numerical Analysis\n",
        "## Dr. Jacob"
      ],
      "metadata": {
        "id": "hqRjbS3klMt7"
      }
    },
    {
      "cell_type": "markdown",
      "source": [
        "In this project we will be using two different methods for approxiating roots of nonlinear equations. We will be using the function as defined below for testing these methods."
      ],
      "metadata": {
        "id": "LSXTNfhlIIko"
      }
    },
    {
      "cell_type": "markdown",
      "source": [
        "### $f(x) = e^{-x}-x $"
      ],
      "metadata": {
        "id": "L4PQ-zbTIZjE"
      }
    },
    {
      "cell_type": "markdown",
      "source": [
        "We will first examine the Newton-Raphson method."
      ],
      "metadata": {
        "id": "X0fihdtYIgRH"
      }
    },
    {
      "cell_type": "code",
      "source": [
        "import pandas as pd\n",
        "import math\n",
        "\n",
        "def f(x):\n",
        "    return math.exp(-x) - x\n",
        "\n",
        "def df(x):\n",
        "    return -math.exp(-x) - 1\n",
        "\n",
        "def newton_raphson(x0, error_tolerance=0.0001, max_iterations=1000):\n",
        "    x_previous = x0\n",
        "    results = []\n",
        "    for i in range(max_iterations):\n",
        "        fx = f(x_previous)\n",
        "        dfx = df(x_previous)\n",
        "        x = x_previous - fx/dfx\n",
        "        error = abs((x - x_previous)/x)*100\n",
        "        if error < error_tolerance:\n",
        "            return results\n",
        "        x_previous = x\n",
        "        iteration,x_value,error_obtained = i,x,error\n",
        "        results.append({ 'Root':x_value, 'Error':error_obtained, 'iteration':i+1})\n",
        "    return \"Error: Maximum number of iterations reached.\"\n",
        "  \n",
        "df = pd.DataFrame(newton_raphson(10))\n",
        "df\n",
        "  "
      ],
      "metadata": {
        "colab": {
          "base_uri": "https://localhost:8080/",
          "height": 175
        },
        "id": "0nm0lXyk7J6P",
        "outputId": "111a9f0d-effb-45f6-d09c-e19696e8ce69"
      },
      "execution_count": null,
      "outputs": [
        {
          "output_type": "execute_result",
          "data": {
            "text/plain": [
              "       Root         Error  iteration\n",
              "0  0.000499  2.002397e+06          1\n",
              "1  0.500125  9.990015e+01          2\n",
              "2  0.566314  1.168774e+01          3\n",
              "3  0.567143  1.461786e-01          4"
            ],
            "text/html": [
              "\n",
              "  <div id=\"df-76ee6071-0e8d-4c90-a439-750cc036b3e1\">\n",
              "    <div class=\"colab-df-container\">\n",
              "      <div>\n",
              "<style scoped>\n",
              "    .dataframe tbody tr th:only-of-type {\n",
              "        vertical-align: middle;\n",
              "    }\n",
              "\n",
              "    .dataframe tbody tr th {\n",
              "        vertical-align: top;\n",
              "    }\n",
              "\n",
              "    .dataframe thead th {\n",
              "        text-align: right;\n",
              "    }\n",
              "</style>\n",
              "<table border=\"1\" class=\"dataframe\">\n",
              "  <thead>\n",
              "    <tr style=\"text-align: right;\">\n",
              "      <th></th>\n",
              "      <th>Root</th>\n",
              "      <th>Error</th>\n",
              "      <th>iteration</th>\n",
              "    </tr>\n",
              "  </thead>\n",
              "  <tbody>\n",
              "    <tr>\n",
              "      <th>0</th>\n",
              "      <td>0.000499</td>\n",
              "      <td>2.002397e+06</td>\n",
              "      <td>1</td>\n",
              "    </tr>\n",
              "    <tr>\n",
              "      <th>1</th>\n",
              "      <td>0.500125</td>\n",
              "      <td>9.990015e+01</td>\n",
              "      <td>2</td>\n",
              "    </tr>\n",
              "    <tr>\n",
              "      <th>2</th>\n",
              "      <td>0.566314</td>\n",
              "      <td>1.168774e+01</td>\n",
              "      <td>3</td>\n",
              "    </tr>\n",
              "    <tr>\n",
              "      <th>3</th>\n",
              "      <td>0.567143</td>\n",
              "      <td>1.461786e-01</td>\n",
              "      <td>4</td>\n",
              "    </tr>\n",
              "  </tbody>\n",
              "</table>\n",
              "</div>\n",
              "      <button class=\"colab-df-convert\" onclick=\"convertToInteractive('df-76ee6071-0e8d-4c90-a439-750cc036b3e1')\"\n",
              "              title=\"Convert this dataframe to an interactive table.\"\n",
              "              style=\"display:none;\">\n",
              "        \n",
              "  <svg xmlns=\"http://www.w3.org/2000/svg\" height=\"24px\"viewBox=\"0 0 24 24\"\n",
              "       width=\"24px\">\n",
              "    <path d=\"M0 0h24v24H0V0z\" fill=\"none\"/>\n",
              "    <path d=\"M18.56 5.44l.94 2.06.94-2.06 2.06-.94-2.06-.94-.94-2.06-.94 2.06-2.06.94zm-11 1L8.5 8.5l.94-2.06 2.06-.94-2.06-.94L8.5 2.5l-.94 2.06-2.06.94zm10 10l.94 2.06.94-2.06 2.06-.94-2.06-.94-.94-2.06-.94 2.06-2.06.94z\"/><path d=\"M17.41 7.96l-1.37-1.37c-.4-.4-.92-.59-1.43-.59-.52 0-1.04.2-1.43.59L10.3 9.45l-7.72 7.72c-.78.78-.78 2.05 0 2.83L4 21.41c.39.39.9.59 1.41.59.51 0 1.02-.2 1.41-.59l7.78-7.78 2.81-2.81c.8-.78.8-2.07 0-2.86zM5.41 20L4 18.59l7.72-7.72 1.47 1.35L5.41 20z\"/>\n",
              "  </svg>\n",
              "      </button>\n",
              "      \n",
              "  <style>\n",
              "    .colab-df-container {\n",
              "      display:flex;\n",
              "      flex-wrap:wrap;\n",
              "      gap: 12px;\n",
              "    }\n",
              "\n",
              "    .colab-df-convert {\n",
              "      background-color: #E8F0FE;\n",
              "      border: none;\n",
              "      border-radius: 50%;\n",
              "      cursor: pointer;\n",
              "      display: none;\n",
              "      fill: #1967D2;\n",
              "      height: 32px;\n",
              "      padding: 0 0 0 0;\n",
              "      width: 32px;\n",
              "    }\n",
              "\n",
              "    .colab-df-convert:hover {\n",
              "      background-color: #E2EBFA;\n",
              "      box-shadow: 0px 1px 2px rgba(60, 64, 67, 0.3), 0px 1px 3px 1px rgba(60, 64, 67, 0.15);\n",
              "      fill: #174EA6;\n",
              "    }\n",
              "\n",
              "    [theme=dark] .colab-df-convert {\n",
              "      background-color: #3B4455;\n",
              "      fill: #D2E3FC;\n",
              "    }\n",
              "\n",
              "    [theme=dark] .colab-df-convert:hover {\n",
              "      background-color: #434B5C;\n",
              "      box-shadow: 0px 1px 3px 1px rgba(0, 0, 0, 0.15);\n",
              "      filter: drop-shadow(0px 1px 2px rgba(0, 0, 0, 0.3));\n",
              "      fill: #FFFFFF;\n",
              "    }\n",
              "  </style>\n",
              "\n",
              "      <script>\n",
              "        const buttonEl =\n",
              "          document.querySelector('#df-76ee6071-0e8d-4c90-a439-750cc036b3e1 button.colab-df-convert');\n",
              "        buttonEl.style.display =\n",
              "          google.colab.kernel.accessAllowed ? 'block' : 'none';\n",
              "\n",
              "        async function convertToInteractive(key) {\n",
              "          const element = document.querySelector('#df-76ee6071-0e8d-4c90-a439-750cc036b3e1');\n",
              "          const dataTable =\n",
              "            await google.colab.kernel.invokeFunction('convertToInteractive',\n",
              "                                                     [key], {});\n",
              "          if (!dataTable) return;\n",
              "\n",
              "          const docLinkHtml = 'Like what you see? Visit the ' +\n",
              "            '<a target=\"_blank\" href=https://colab.research.google.com/notebooks/data_table.ipynb>data table notebook</a>'\n",
              "            + ' to learn more about interactive tables.';\n",
              "          element.innerHTML = '';\n",
              "          dataTable['output_type'] = 'display_data';\n",
              "          await google.colab.output.renderOutput(dataTable, element);\n",
              "          const docLink = document.createElement('div');\n",
              "          docLink.innerHTML = docLinkHtml;\n",
              "          element.appendChild(docLink);\n",
              "        }\n",
              "      </script>\n",
              "    </div>\n",
              "  </div>\n",
              "  "
            ]
          },
          "metadata": {},
          "execution_count": 77
        }
      ]
    },
    {
      "cell_type": "markdown",
      "source": [
        "It seems like the Newton-Raphson method yielded a good approximation of the root with few iterations. Let's now see how this compares to the Secant method."
      ],
      "metadata": {
        "id": "UmrkLql5Ik27"
      }
    },
    {
      "cell_type": "code",
      "source": [
        "from tabulate import tabulate\n",
        "import numpy as np\n",
        "import matplotlib.pyplot as plt\n",
        "\n",
        "def derive(x,h):\n",
        "  d = (f(x)-f(x-h))/h\n",
        "  return(d)\n",
        "\n",
        "def g(x,h):\n",
        "  return(f(x)/derive(x,h))\n",
        "\n",
        "def secant(x,h,k):\n",
        "  data = [[1,f(1),\"null\",0]]\n",
        "  error = 1\n",
        "  iterate = 0\n",
        "  while error > .0001:\n",
        "    iterate = iterate+1\n",
        "    if iterate > k:\n",
        "      break\n",
        "    else:\n",
        "      old = x\n",
        "      x = x-g(x,h)\n",
        "      error = abs(100*(x-old)/x)\n",
        "      data.append([x,f(x),error,iterate])\n",
        "  return data"
      ],
      "metadata": {
        "id": "JISOlBaV8L62"
      },
      "execution_count": null,
      "outputs": []
    },
    {
      "cell_type": "markdown",
      "source": [
        "Now that we have our implementation of the Secant method, because we now need two initial guesses, it will help to have a lagrange approximation of the function to determine good initial guesses."
      ],
      "metadata": {
        "id": "1q9qjA9ZIzn8"
      }
    },
    {
      "cell_type": "code",
      "source": [
        "def lagrange(x):\n",
        "  term1 = f(1)*(x-1.1)*(x-1.2)*(x-2)/(1-1.1)/(1-1.2)/(1-2)\n",
        "  term2 = f(1.1)*(x-1)*(x-1.2)*(x-2)/(1.1-1)/(1.1-1.2)/(1.1-2)\n",
        "  term3 = f(1.2)*(x-1.1)*(x-1)*(x-2)/(1.2-1.1)/(1.2-1)/(1.2-2)\n",
        "  term4 = f(2)*(x-1.1)*(x-1.2)*(x-1)/(2-1.1)/(2-1.2)/(2-1)\n",
        "  return(term1+term2+term3+term4)"
      ],
      "metadata": {
        "id": "MEGkXH1IbxHN"
      },
      "execution_count": null,
      "outputs": []
    },
    {
      "cell_type": "code",
      "source": [
        "x = np.linspace(-10, 10, 1000)\n",
        "y_lagrange = lagrange(x)\n",
        "\n",
        "plt.plot(x, y_lagrange, label='lagrange',color='red')\n",
        "\n",
        "plt.legend()\n",
        "plt.xlabel('x')\n",
        "plt.ylabel('y')\n",
        "plt.xlim([-10,10])\n",
        "plt.ylim([-10,10])\n",
        "plt.show()"
      ],
      "metadata": {
        "colab": {
          "base_uri": "https://localhost:8080/",
          "height": 455
        },
        "id": "KftDDB2CeXV0",
        "outputId": "9e58c3ab-4502-4d96-a043-86038802c3f7"
      },
      "execution_count": null,
      "outputs": [
        {
          "output_type": "display_data",
          "data": {
            "text/plain": [
              "<Figure size 640x480 with 1 Axes>"
            ],
            "image/png": "[encoded data removed]"
          },
          "metadata": {}
        }
      ]
    },
    {
      "cell_type": "markdown",
      "source": [
        "It seems 1 and .5 would be good guesses. Notice that because we are using the secant method, the actual root doesnt need to be between our guesses."
      ],
      "metadata": {
        "id": "9It_WLk6JDJR"
      }
    },
    {
      "cell_type": "code",
      "source": [
        "secant_roots = pd.DataFrame(secant(1,.5,10),columns=[\"root\",\"f(x)\",\"error\",\"iteration\"])\n",
        "secant_roots"
      ],
      "metadata": {
        "colab": {
          "base_uri": "https://localhost:8080/",
          "height": 269
        },
        "id": "-iKbjlVkfhjf",
        "outputId": "5341d511-8ffa-46d6-e934-0dfb1209c7ac"
      },
      "execution_count": null,
      "outputs": [
        {
          "output_type": "execute_result",
          "data": {
            "text/plain": [
              "       root          f(x)      error  iteration\n",
              "0  1.000000 -6.321206e-01       null          0\n",
              "1  0.572112 -7.779083e-03  74.791069          1\n",
              "2  0.567621 -7.481270e-04   0.791179          2\n",
              "3  0.567190 -7.263204e-05   0.076002          3\n",
              "4  0.567148 -7.057865e-06   0.007378          4\n",
              "5  0.567144 -6.858932e-07   0.000717          5\n",
              "6  0.567143 -6.665662e-08    0.00007          6"
            ],
            "text/html": [
              "\n",
              "  <div id=\"df-23f23d44-b40e-45c4-8c52-12a6cf4ced3e\">\n",
              "    <div class=\"colab-df-container\">\n",
              "      <div>\n",
              "<style scoped>\n",
              "    .dataframe tbody tr th:only-of-type {\n",
              "        vertical-align: middle;\n",
              "    }\n",
              "\n",
              "    .dataframe tbody tr th {\n",
              "        vertical-align: top;\n",
              "    }\n",
              "\n",
              "    .dataframe thead th {\n",
              "        text-align: right;\n",
              "    }\n",
              "</style>\n",
              "<table border=\"1\" class=\"dataframe\">\n",
              "  <thead>\n",
              "    <tr style=\"text-align: right;\">\n",
              "      <th></th>\n",
              "      <th>root</th>\n",
              "      <th>f(x)</th>\n",
              "      <th>error</th>\n",
              "      <th>iteration</th>\n",
              "    </tr>\n",
              "  </thead>\n",
              "  <tbody>\n",
              "    <tr>\n",
              "      <th>0</th>\n",
              "      <td>1.000000</td>\n",
              "      <td>-6.321206e-01</td>\n",
              "      <td>null</td>\n",
              "      <td>0</td>\n",
              "    </tr>\n",
              "    <tr>\n",
              "      <th>1</th>\n",
              "      <td>0.572112</td>\n",
              "      <td>-7.779083e-03</td>\n",
              "      <td>74.791069</td>\n",
              "      <td>1</td>\n",
              "    </tr>\n",
              "    <tr>\n",
              "      <th>2</th>\n",
              "      <td>0.567621</td>\n",
              "      <td>-7.481270e-04</td>\n",
              "      <td>0.791179</td>\n",
              "      <td>2</td>\n",
              "    </tr>\n",
              "    <tr>\n",
              "      <th>3</th>\n",
              "      <td>0.567190</td>\n",
              "      <td>-7.263204e-05</td>\n",
              "      <td>0.076002</td>\n",
              "      <td>3</td>\n",
              "    </tr>\n",
              "    <tr>\n",
              "      <th>4</th>\n",
              "      <td>0.567148</td>\n",
              "      <td>-7.057865e-06</td>\n",
              "      <td>0.007378</td>\n",
              "      <td>4</td>\n",
              "    </tr>\n",
              "    <tr>\n",
              "      <th>5</th>\n",
              "      <td>0.567144</td>\n",
              "      <td>-6.858932e-07</td>\n",
              "      <td>0.000717</td>\n",
              "      <td>5</td>\n",
              "    </tr>\n",
              "    <tr>\n",
              "      <th>6</th>\n",
              "      <td>0.567143</td>\n",
              "      <td>-6.665662e-08</td>\n",
              "      <td>0.00007</td>\n",
              "      <td>6</td>\n",
              "    </tr>\n",
              "  </tbody>\n",
              "</table>\n",
              "</div>\n",
              "      <button class=\"colab-df-convert\" onclick=\"convertToInteractive('df-23f23d44-b40e-45c4-8c52-12a6cf4ced3e')\"\n",
              "              title=\"Convert this dataframe to an interactive table.\"\n",
              "              style=\"display:none;\">\n",
              "        \n",
              "  <svg xmlns=\"http://www.w3.org/2000/svg\" height=\"24px\"viewBox=\"0 0 24 24\"\n",
              "       width=\"24px\">\n",
              "    <path d=\"M0 0h24v24H0V0z\" fill=\"none\"/>\n",
              "    <path d=\"M18.56 5.44l.94 2.06.94-2.06 2.06-.94-2.06-.94-.94-2.06-.94 2.06-2.06.94zm-11 1L8.5 8.5l.94-2.06 2.06-.94-2.06-.94L8.5 2.5l-.94 2.06-2.06.94zm10 10l.94 2.06.94-2.06 2.06-.94-2.06-.94-.94-2.06-.94 2.06-2.06.94z\"/><path d=\"M17.41 7.96l-1.37-1.37c-.4-.4-.92-.59-1.43-.59-.52 0-1.04.2-1.43.59L10.3 9.45l-7.72 7.72c-.78.78-.78 2.05 0 2.83L4 21.41c.39.39.9.59 1.41.59.51 0 1.02-.2 1.41-.59l7.78-7.78 2.81-2.81c.8-.78.8-2.07 0-2.86zM5.41 20L4 18.59l7.72-7.72 1.47 1.35L5.41 20z\"/>\n",
              "  </svg>\n",
              "      </button>\n",
              "      \n",
              "  <style>\n",
              "    .colab-df-container {\n",
              "      display:flex;\n",
              "      flex-wrap:wrap;\n",
              "      gap: 12px;\n",
              "    }\n",
              "\n",
              "    .colab-df-convert {\n",
              "      background-color: #E8F0FE;\n",
              "      border: none;\n",
              "      border-radius: 50%;\n",
              "      cursor: pointer;\n",
              "      display: none;\n",
              "      fill: #1967D2;\n",
              "      height: 32px;\n",
              "      padding: 0 0 0 0;\n",
              "      width: 32px;\n",
              "    }\n",
              "\n",
              "    .colab-df-convert:hover {\n",
              "      background-color: #E2EBFA;\n",
              "      box-shadow: 0px 1px 2px rgba(60, 64, 67, 0.3), 0px 1px 3px 1px rgba(60, 64, 67, 0.15);\n",
              "      fill: #174EA6;\n",
              "    }\n",
              "\n",
              "    [theme=dark] .colab-df-convert {\n",
              "      background-color: #3B4455;\n",
              "      fill: #D2E3FC;\n",
              "    }\n",
              "\n",
              "    [theme=dark] .colab-df-convert:hover {\n",
              "      background-color: #434B5C;\n",
              "      box-shadow: 0px 1px 3px 1px rgba(0, 0, 0, 0.15);\n",
              "      filter: drop-shadow(0px 1px 2px rgba(0, 0, 0, 0.3));\n",
              "      fill: #FFFFFF;\n",
              "    }\n",
              "  </style>\n",
              "\n",
              "      <script>\n",
              "        const buttonEl =\n",
              "          document.querySelector('#df-23f23d44-b40e-45c4-8c52-12a6cf4ced3e button.colab-df-convert');\n",
              "        buttonEl.style.display =\n",
              "          google.colab.kernel.accessAllowed ? 'block' : 'none';\n",
              "\n",
              "        async function convertToInteractive(key) {\n",
              "          const element = document.querySelector('#df-23f23d44-b40e-45c4-8c52-12a6cf4ced3e');\n",
              "          const dataTable =\n",
              "            await google.colab.kernel.invokeFunction('convertToInteractive',\n",
              "                                                     [key], {});\n",
              "          if (!dataTable) return;\n",
              "\n",
              "          const docLinkHtml = 'Like what you see? Visit the ' +\n",
              "            '<a target=\"_blank\" href=https://colab.research.google.com/notebooks/data_table.ipynb>data table notebook</a>'\n",
              "            + ' to learn more about interactive tables.';\n",
              "          element.innerHTML = '';\n",
              "          dataTable['output_type'] = 'display_data';\n",
              "          await google.colab.output.renderOutput(dataTable, element);\n",
              "          const docLink = document.createElement('div');\n",
              "          docLink.innerHTML = docLinkHtml;\n",
              "          element.appendChild(docLink);\n",
              "        }\n",
              "      </script>\n",
              "    </div>\n",
              "  </div>\n",
              "  "
            ]
          },
          "metadata": {},
          "execution_count": 103
        }
      ]
    },
    {
      "cell_type": "markdown",
      "source": [
        "The secant method approaches the same value as the Newton-Raphson method, and from the lagrange interpolation this looks accurate. We have now seen two methods for finding roots of non-linear equations. But why do we care?"
      ],
      "metadata": {
        "id": "xR1f64wBJZJz"
      }
    },
    {
      "cell_type": "markdown",
      "source": [
        "Finding roots serves the aim of determining a function's range, which reveals the function's maximum and minimum values as well as the intersection of the graph with the coordinate axes."
      ],
      "metadata": {
        "id": "PkRkW4xQJ0ah"
      }
    },
    {
      "cell_type": "markdown",
      "source": [
        "The secant method makes use of two beginning points to approximate the root, while the Newton-Raphson method iteratively uses the function's first derivative. Since the Newton-Raphson approach makes use of the function's slope information at each iteration, it often converges more quickly than the secant method. However, a case where the Newton-Raphson method is not appropriate is  when the function has multiple roots that are very close to each other. In this scenario, the method may converge very slowly or not converge at all. In both cases, the inital guess, or guesses, play an extremely important role. It seems that without close inital guesses, the algorithm may never actually converge before the run-time causes extreme problems. This is where the Lagrange Interpolation comes into play."
      ],
      "metadata": {
        "id": "j_R4ZQ4PJw3w"
      }
    },
    {
      "cell_type": "markdown",
      "source": [
        "The Lagrange Interpolation gives us a close approximation for the values of a function on the interval for which our samples lay. This provides us with the ability to make appropriate initial guesses for the roots. "
      ],
      "metadata": {
        "id": "Rzoxrl3PKeoY"
      }
    }
  ]
}